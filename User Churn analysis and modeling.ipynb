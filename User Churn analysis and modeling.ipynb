{
 "cells": [
  {
   "cell_type": "code",
   "execution_count": 1,
   "metadata": {
    "collapsed": true
   },
   "outputs": [
    {
     "name": "stdout",
     "output_type": "stream",
     "text": [
      "Collecting seaborn\n",
      "\u001b[?25l  Downloading https://files.pythonhosted.org/packages/68/ad/6c2406ae175f59ec616714e408979b674fe27b9587f79d59a528ddfbcd5b/seaborn-0.11.1-py3-none-any.whl (285kB)\n",
      "\u001b[K    100% |████████████████████████████████| 286kB 6.3MB/s ta 0:00:01\n",
      "\u001b[?25hRequirement already satisfied, skipping upgrade: scipy>=1.0 in /opt/conda/lib/python3.6/site-packages (from seaborn) (1.2.1)\n",
      "Collecting matplotlib>=2.2 (from seaborn)\n",
      "\u001b[?25l  Downloading https://files.pythonhosted.org/packages/09/03/b7b30fa81cb687d1178e085d0f01111ceaea3bf81f9330c937fb6f6c8ca0/matplotlib-3.3.4-cp36-cp36m-manylinux1_x86_64.whl (11.5MB)\n",
      "\u001b[K    100% |████████████████████████████████| 11.5MB 1.6MB/s eta 0:00:01  2% |▉                               | 296kB 15.0MB/s eta 0:00:01    8% |██▋                             | 952kB 28.8MB/s eta 0:00:01    14% |████▌                           | 1.6MB 13.4MB/s eta 0:00:01    19% |██████▎                         | 2.3MB 13.5MB/s eta 0:00:01    28% |█████████▏                      | 3.3MB 6.8MB/s eta 0:00:02    32% |██████████▍                     | 3.8MB 7.4MB/s eta 0:00:02    35% |███████████▍                    | 4.1MB 7.9MB/s eta 0:00:01    40% |█████████████                   | 4.7MB 9.7MB/s eta 0:00:01    48% |███████████████▋                | 5.6MB 6.6MB/s eta 0:00:01    52% |████████████████▉               | 6.1MB 13.4MB/s eta 0:00:01    57% |██████████████████▌             | 6.7MB 12.8MB/s eta 0:00:01    69% |██████████████████████          | 8.0MB 14.9MB/s eta 0:00:01    74% |████████████████████████        | 8.6MB 14.5MB/s eta 0:00:01    80% |█████████████████████████▋      | 9.2MB 9.6MB/s eta 0:00:01    85% |███████████████████████████▍    | 9.9MB 14.6MB/s eta 0:00:01\n",
      "\u001b[?25hCollecting numpy>=1.15 (from seaborn)\n",
      "\u001b[?25l  Downloading https://files.pythonhosted.org/packages/45/b2/6c7545bb7a38754d63048c7696804a0d947328125d81bf12beaa692c3ae3/numpy-1.19.5-cp36-cp36m-manylinux1_x86_64.whl (13.4MB)\n",
      "\u001b[K    100% |████████████████████████████████| 13.4MB 1.4MB/s eta 0:00:01  1% |▍                               | 184kB 12.3MB/s eta 0:00:02    20% |██████▊                         | 2.8MB 14.8MB/s eta 0:00:01    35% |███████████▎                    | 4.7MB 13.7MB/s eta 0:00:01    39% |████████████▊                   | 5.3MB 12.8MB/s eta 0:00:01    48% |███████████████▋                | 6.5MB 27.2MB/s eta 0:00:01    63% |████████████████████▏           | 8.5MB 4.3MB/s eta 0:00:02    65% |████████████████████▉           | 8.7MB 6.5MB/s eta 0:00:01    67% |█████████████████████▌          | 9.0MB 4.7MB/s eta 0:00:01    69% |██████████████████████▎         | 9.3MB 8.3MB/s eta 0:00:01    72% |███████████████████████▏        | 9.7MB 21.4MB/s eta 0:00:01    76% |████████████████████████▌       | 10.2MB 24.1MB/s eta 0:00:01    80% |█████████████████████████▉      | 10.8MB 26.9MB/s eta 0:00:01    84% |███████████████████████████▏    | 11.4MB 13.6MB/s eta 0:00:01    89% |████████████████████████████▌   | 11.9MB 26.3MB/s eta 0:00:01    98% |███████████████████████████████▍| 13.1MB 26.4MB/s eta 0:00:01\n",
      "\u001b[?25hRequirement already satisfied, skipping upgrade: pandas>=0.23 in /opt/conda/lib/python3.6/site-packages (from seaborn) (0.23.3)\n",
      "Collecting kiwisolver>=1.0.1 (from matplotlib>=2.2->seaborn)\n",
      "\u001b[?25l  Downloading https://files.pythonhosted.org/packages/a7/1b/cbd8ae738719b5f41592a12057ef5442e2ed5f5cb5451f8fc7e9f8875a1a/kiwisolver-1.3.1-cp36-cp36m-manylinux1_x86_64.whl (1.1MB)\n",
      "\u001b[K    100% |████████████████████████████████| 1.1MB 6.4MB/s eta 0:00:01    67% |█████████████████████▋          | 768kB 15.5MB/s eta 0:00:01\n",
      "\u001b[?25hRequirement already satisfied, skipping upgrade: cycler>=0.10 in /opt/conda/lib/python3.6/site-packages/cycler-0.10.0-py3.6.egg (from matplotlib>=2.2->seaborn) (0.10.0)\n",
      "Collecting pillow>=6.2.0 (from matplotlib>=2.2->seaborn)\n",
      "\u001b[?25l  Downloading https://files.pythonhosted.org/packages/89/d2/942af29f8494a1a3f4bc4f483d520f7c02ccae677f5f50cf76c6b3d827d8/Pillow-8.2.0-cp36-cp36m-manylinux1_x86_64.whl (3.0MB)\n",
      "\u001b[K    100% |████████████████████████████████| 3.0MB 4.1MB/s eta 0:00:01    64% |████████████████████▌           | 1.9MB 12.7MB/s eta 0:00:01\n",
      "\u001b[?25hRequirement already satisfied, skipping upgrade: python-dateutil>=2.1 in /opt/conda/lib/python3.6/site-packages (from matplotlib>=2.2->seaborn) (2.6.1)\n",
      "Requirement already satisfied, skipping upgrade: pyparsing!=2.0.4,!=2.1.2,!=2.1.6,>=2.0.3 in /opt/conda/lib/python3.6/site-packages (from matplotlib>=2.2->seaborn) (2.2.0)\n",
      "Requirement already satisfied, skipping upgrade: pytz>=2011k in /opt/conda/lib/python3.6/site-packages (from pandas>=0.23->seaborn) (2017.3)\n",
      "Requirement already satisfied, skipping upgrade: six in /opt/conda/lib/python3.6/site-packages (from cycler>=0.10->matplotlib>=2.2->seaborn) (1.11.0)\n",
      "\u001b[31mtensorflow 1.3.0 requires tensorflow-tensorboard<0.2.0,>=0.1.0, which is not installed.\u001b[0m\n",
      "\u001b[31mscikit-image 0.14.2 has requirement dask[array]>=1.0.0, but you'll have dask 0.16.1 which is incompatible.\u001b[0m\n",
      "Installing collected packages: kiwisolver, pillow, numpy, matplotlib, seaborn\n",
      "  Found existing installation: Pillow 5.2.0\n",
      "    Uninstalling Pillow-5.2.0:\n",
      "      Successfully uninstalled Pillow-5.2.0\n",
      "  Found existing installation: numpy 1.12.1\n",
      "    Uninstalling numpy-1.12.1:\n",
      "      Successfully uninstalled numpy-1.12.1\n",
      "  Found existing installation: matplotlib 2.1.0\n",
      "    Uninstalling matplotlib-2.1.0:\n",
      "      Successfully uninstalled matplotlib-2.1.0\n",
      "  Found existing installation: seaborn 0.8.1\n",
      "    Uninstalling seaborn-0.8.1:\n",
      "      Successfully uninstalled seaborn-0.8.1\n",
      "Successfully installed kiwisolver-1.3.1 matplotlib-3.3.4 numpy-1.19.5 pillow-8.2.0 seaborn-0.11.1\n"
     ]
    }
   ],
   "source": [
    "# !pip install -U seaborn"
   ]
  },
  {
   "cell_type": "code",
   "execution_count": 2,
   "metadata": {},
   "outputs": [],
   "source": [
    "# import libraries\n",
    "from pyspark.sql import SparkSession\n",
    "from pyspark.sql.functions import udf\n",
    "from pyspark.sql.types import IntegerType, FloatType, StringType, DoubleType\n",
    "import pyspark.sql.functions as F\n",
    "from pyspark.sql.functions import count\n",
    "from pyspark.sql import Window\n",
    "\n",
    "from datetime import datetime\n",
    "from statsmodels.stats.proportion import proportions_ztest\n",
    "\n",
    "from time import time\n",
    "import numpy as np\n",
    "import pandas as pd\n",
    "import seaborn as sns\n",
    "%matplotlib inline\n",
    "import matplotlib.pyplot as plt\n",
    "\n",
    "# create a Spark session\n",
    "spark = SparkSession \\\n",
    "    .builder \\\n",
    "    .appName(\"Wrangling Data\") \\\n",
    "    .getOrCreate()\n",
    "\n",
    "path = \"mini_sparkify_event_data.json\"\n",
    "df = spark.read.json(path)"
   ]
  },
  {
   "cell_type": "markdown",
   "metadata": {},
   "source": [
    "## Basic exploration and Cleaning"
   ]
  },
  {
   "cell_type": "code",
   "execution_count": 2,
   "metadata": {},
   "outputs": [
    {
     "name": "stdout",
     "output_type": "stream",
     "text": [
      "+--------------+---------+---------+------+-------------+--------+---------+-----+---------------+------+--------+-------------+---------+---------+------+-------------+--------------------+------+\n",
      "|        artist|     auth|firstName|gender|itemInSession|lastName|   length|level|       location|method|    page| registration|sessionId|     song|status|           ts|           userAgent|userId|\n",
      "+--------------+---------+---------+------+-------------+--------+---------+-----+---------------+------+--------+-------------+---------+---------+------+-------------+--------------------+------+\n",
      "|Martha Tilston|Logged In|    Colin|     M|           50| Freeman|277.89016| paid|Bakersfield, CA|   PUT|NextSong|1538173362000|       29|Rockpools|   200|1538352117000|Mozilla/5.0 (Wind...|    30|\n",
      "+--------------+---------+---------+------+-------------+--------+---------+-----+---------------+------+--------+-------------+---------+---------+------+-------------+--------------------+------+\n",
      "only showing top 1 row\n",
      "\n"
     ]
    }
   ],
   "source": [
    "df.show(1)"
   ]
  },
  {
   "cell_type": "code",
   "execution_count": 31,
   "metadata": {},
   "outputs": [
    {
     "data": {
      "text/plain": [
       "286500"
      ]
     },
     "execution_count": 31,
     "metadata": {},
     "output_type": "execute_result"
    }
   ],
   "source": [
    "df.count()"
   ]
  },
  {
   "cell_type": "code",
   "execution_count": 32,
   "metadata": {
    "scrolled": true
   },
   "outputs": [
    {
     "name": "stdout",
     "output_type": "stream",
     "text": [
      "root\n",
      " |-- artist: string (nullable = true)\n",
      " |-- auth: string (nullable = true)\n",
      " |-- firstName: string (nullable = true)\n",
      " |-- gender: string (nullable = true)\n",
      " |-- itemInSession: long (nullable = true)\n",
      " |-- lastName: string (nullable = true)\n",
      " |-- length: double (nullable = true)\n",
      " |-- level: string (nullable = true)\n",
      " |-- location: string (nullable = true)\n",
      " |-- method: string (nullable = true)\n",
      " |-- page: string (nullable = true)\n",
      " |-- registration: long (nullable = true)\n",
      " |-- sessionId: long (nullable = true)\n",
      " |-- song: string (nullable = true)\n",
      " |-- status: long (nullable = true)\n",
      " |-- ts: long (nullable = true)\n",
      " |-- userAgent: string (nullable = true)\n",
      " |-- userId: string (nullable = true)\n",
      "\n"
     ]
    }
   ],
   "source": [
    "df.printSchema()"
   ]
  },
  {
   "cell_type": "code",
   "execution_count": 33,
   "metadata": {},
   "outputs": [],
   "source": [
    "# Dropping duplicated rows if any\n",
    "\n",
    "df = df.distinct()"
   ]
  },
  {
   "cell_type": "markdown",
   "metadata": {},
   "source": [
    "### Missing values"
   ]
  },
  {
   "cell_type": "code",
   "execution_count": 34,
   "metadata": {},
   "outputs": [],
   "source": [
    "# Find count for empty, None, Null, Nan with string literals.\n",
    "\n",
    "missing = df.select([F.count(F.when((F.col(c) == '' ) | F.col(c).isNull() | F.isnan(c), c)) \\\n",
    "                     .alias(c) for c in df.columns])"
   ]
  },
  {
   "cell_type": "code",
   "execution_count": 35,
   "metadata": {
    "collapsed": true
   },
   "outputs": [
    {
     "ename": "KeyboardInterrupt",
     "evalue": "",
     "output_type": "error",
     "traceback": [
      "\u001b[0;31m---------------------------------------------------------------------------\u001b[0m",
      "\u001b[0;31mKeyboardInterrupt\u001b[0m                         Traceback (most recent call last)",
      "\u001b[0;32m<ipython-input-35-c90f4a33f8ed>\u001b[0m in \u001b[0;36m<module>\u001b[0;34m()\u001b[0m\n\u001b[0;32m----> 1\u001b[0;31m \u001b[0mmissing\u001b[0m\u001b[0;34m.\u001b[0m\u001b[0mtoPandas\u001b[0m\u001b[0;34m(\u001b[0m\u001b[0;34m)\u001b[0m\u001b[0;34m.\u001b[0m\u001b[0mT\u001b[0m\u001b[0;34m.\u001b[0m\u001b[0mrename\u001b[0m\u001b[0;34m(\u001b[0m\u001b[0mcolumns\u001b[0m\u001b[0;34m=\u001b[0m\u001b[0;34m{\u001b[0m\u001b[0;36m0\u001b[0m\u001b[0;34m:\u001b[0m \u001b[0;34m'Count'\u001b[0m\u001b[0;34m}\u001b[0m\u001b[0;34m)\u001b[0m\u001b[0;34m.\u001b[0m\u001b[0msort_values\u001b[0m\u001b[0;34m(\u001b[0m\u001b[0;34m'Count'\u001b[0m\u001b[0;34m,\u001b[0m \u001b[0mascending\u001b[0m\u001b[0;34m=\u001b[0m\u001b[0;32mFalse\u001b[0m\u001b[0;34m)\u001b[0m\u001b[0;34m\u001b[0m\u001b[0m\n\u001b[0m",
      "\u001b[0;32m/opt/spark-2.4.3-bin-hadoop2.7/python/pyspark/sql/dataframe.py\u001b[0m in \u001b[0;36mtoPandas\u001b[0;34m(self)\u001b[0m\n\u001b[1;32m   2140\u001b[0m \u001b[0;34m\u001b[0m\u001b[0m\n\u001b[1;32m   2141\u001b[0m         \u001b[0;31m# Below is toPandas without Arrow optimization.\u001b[0m\u001b[0;34m\u001b[0m\u001b[0;34m\u001b[0m\u001b[0m\n\u001b[0;32m-> 2142\u001b[0;31m         \u001b[0mpdf\u001b[0m \u001b[0;34m=\u001b[0m \u001b[0mpd\u001b[0m\u001b[0;34m.\u001b[0m\u001b[0mDataFrame\u001b[0m\u001b[0;34m.\u001b[0m\u001b[0mfrom_records\u001b[0m\u001b[0;34m(\u001b[0m\u001b[0mself\u001b[0m\u001b[0;34m.\u001b[0m\u001b[0mcollect\u001b[0m\u001b[0;34m(\u001b[0m\u001b[0;34m)\u001b[0m\u001b[0;34m,\u001b[0m \u001b[0mcolumns\u001b[0m\u001b[0;34m=\u001b[0m\u001b[0mself\u001b[0m\u001b[0;34m.\u001b[0m\u001b[0mcolumns\u001b[0m\u001b[0;34m)\u001b[0m\u001b[0;34m\u001b[0m\u001b[0m\n\u001b[0m\u001b[1;32m   2143\u001b[0m \u001b[0;34m\u001b[0m\u001b[0m\n\u001b[1;32m   2144\u001b[0m         \u001b[0mdtype\u001b[0m \u001b[0;34m=\u001b[0m \u001b[0;34m{\u001b[0m\u001b[0;34m}\u001b[0m\u001b[0;34m\u001b[0m\u001b[0m\n",
      "\u001b[0;32m/opt/spark-2.4.3-bin-hadoop2.7/python/pyspark/sql/dataframe.py\u001b[0m in \u001b[0;36mcollect\u001b[0;34m(self)\u001b[0m\n\u001b[1;32m    531\u001b[0m         \"\"\"\n\u001b[1;32m    532\u001b[0m         \u001b[0;32mwith\u001b[0m \u001b[0mSCCallSiteSync\u001b[0m\u001b[0;34m(\u001b[0m\u001b[0mself\u001b[0m\u001b[0;34m.\u001b[0m\u001b[0m_sc\u001b[0m\u001b[0;34m)\u001b[0m \u001b[0;32mas\u001b[0m \u001b[0mcss\u001b[0m\u001b[0;34m:\u001b[0m\u001b[0;34m\u001b[0m\u001b[0m\n\u001b[0;32m--> 533\u001b[0;31m             \u001b[0msock_info\u001b[0m \u001b[0;34m=\u001b[0m \u001b[0mself\u001b[0m\u001b[0;34m.\u001b[0m\u001b[0m_jdf\u001b[0m\u001b[0;34m.\u001b[0m\u001b[0mcollectToPython\u001b[0m\u001b[0;34m(\u001b[0m\u001b[0;34m)\u001b[0m\u001b[0;34m\u001b[0m\u001b[0m\n\u001b[0m\u001b[1;32m    534\u001b[0m         \u001b[0;32mreturn\u001b[0m \u001b[0mlist\u001b[0m\u001b[0;34m(\u001b[0m\u001b[0m_load_from_socket\u001b[0m\u001b[0;34m(\u001b[0m\u001b[0msock_info\u001b[0m\u001b[0;34m,\u001b[0m \u001b[0mBatchedSerializer\u001b[0m\u001b[0;34m(\u001b[0m\u001b[0mPickleSerializer\u001b[0m\u001b[0;34m(\u001b[0m\u001b[0;34m)\u001b[0m\u001b[0;34m)\u001b[0m\u001b[0;34m)\u001b[0m\u001b[0;34m)\u001b[0m\u001b[0;34m\u001b[0m\u001b[0m\n\u001b[1;32m    535\u001b[0m \u001b[0;34m\u001b[0m\u001b[0m\n",
      "\u001b[0;32m/opt/spark-2.4.3-bin-hadoop2.7/python/lib/py4j-0.10.7-src.zip/py4j/java_gateway.py\u001b[0m in \u001b[0;36m__call__\u001b[0;34m(self, *args)\u001b[0m\n\u001b[1;32m   1253\u001b[0m             \u001b[0mproto\u001b[0m\u001b[0;34m.\u001b[0m\u001b[0mEND_COMMAND_PART\u001b[0m\u001b[0;34m\u001b[0m\u001b[0m\n\u001b[1;32m   1254\u001b[0m \u001b[0;34m\u001b[0m\u001b[0m\n\u001b[0;32m-> 1255\u001b[0;31m         \u001b[0manswer\u001b[0m \u001b[0;34m=\u001b[0m \u001b[0mself\u001b[0m\u001b[0;34m.\u001b[0m\u001b[0mgateway_client\u001b[0m\u001b[0;34m.\u001b[0m\u001b[0msend_command\u001b[0m\u001b[0;34m(\u001b[0m\u001b[0mcommand\u001b[0m\u001b[0;34m)\u001b[0m\u001b[0;34m\u001b[0m\u001b[0m\n\u001b[0m\u001b[1;32m   1256\u001b[0m         return_value = get_return_value(\n\u001b[1;32m   1257\u001b[0m             answer, self.gateway_client, self.target_id, self.name)\n",
      "\u001b[0;32m/opt/spark-2.4.3-bin-hadoop2.7/python/lib/py4j-0.10.7-src.zip/py4j/java_gateway.py\u001b[0m in \u001b[0;36msend_command\u001b[0;34m(self, command, retry, binary)\u001b[0m\n\u001b[1;32m    983\u001b[0m         \u001b[0mconnection\u001b[0m \u001b[0;34m=\u001b[0m \u001b[0mself\u001b[0m\u001b[0;34m.\u001b[0m\u001b[0m_get_connection\u001b[0m\u001b[0;34m(\u001b[0m\u001b[0;34m)\u001b[0m\u001b[0;34m\u001b[0m\u001b[0m\n\u001b[1;32m    984\u001b[0m         \u001b[0;32mtry\u001b[0m\u001b[0;34m:\u001b[0m\u001b[0;34m\u001b[0m\u001b[0m\n\u001b[0;32m--> 985\u001b[0;31m             \u001b[0mresponse\u001b[0m \u001b[0;34m=\u001b[0m \u001b[0mconnection\u001b[0m\u001b[0;34m.\u001b[0m\u001b[0msend_command\u001b[0m\u001b[0;34m(\u001b[0m\u001b[0mcommand\u001b[0m\u001b[0;34m)\u001b[0m\u001b[0;34m\u001b[0m\u001b[0m\n\u001b[0m\u001b[1;32m    986\u001b[0m             \u001b[0;32mif\u001b[0m \u001b[0mbinary\u001b[0m\u001b[0;34m:\u001b[0m\u001b[0;34m\u001b[0m\u001b[0m\n\u001b[1;32m    987\u001b[0m                 \u001b[0;32mreturn\u001b[0m \u001b[0mresponse\u001b[0m\u001b[0;34m,\u001b[0m \u001b[0mself\u001b[0m\u001b[0;34m.\u001b[0m\u001b[0m_create_connection_guard\u001b[0m\u001b[0;34m(\u001b[0m\u001b[0mconnection\u001b[0m\u001b[0;34m)\u001b[0m\u001b[0;34m\u001b[0m\u001b[0m\n",
      "\u001b[0;32m/opt/spark-2.4.3-bin-hadoop2.7/python/lib/py4j-0.10.7-src.zip/py4j/java_gateway.py\u001b[0m in \u001b[0;36msend_command\u001b[0;34m(self, command)\u001b[0m\n\u001b[1;32m   1150\u001b[0m \u001b[0;34m\u001b[0m\u001b[0m\n\u001b[1;32m   1151\u001b[0m         \u001b[0;32mtry\u001b[0m\u001b[0;34m:\u001b[0m\u001b[0;34m\u001b[0m\u001b[0m\n\u001b[0;32m-> 1152\u001b[0;31m             \u001b[0manswer\u001b[0m \u001b[0;34m=\u001b[0m \u001b[0msmart_decode\u001b[0m\u001b[0;34m(\u001b[0m\u001b[0mself\u001b[0m\u001b[0;34m.\u001b[0m\u001b[0mstream\u001b[0m\u001b[0;34m.\u001b[0m\u001b[0mreadline\u001b[0m\u001b[0;34m(\u001b[0m\u001b[0;34m)\u001b[0m\u001b[0;34m[\u001b[0m\u001b[0;34m:\u001b[0m\u001b[0;34m-\u001b[0m\u001b[0;36m1\u001b[0m\u001b[0;34m]\u001b[0m\u001b[0;34m)\u001b[0m\u001b[0;34m\u001b[0m\u001b[0m\n\u001b[0m\u001b[1;32m   1153\u001b[0m             \u001b[0mlogger\u001b[0m\u001b[0;34m.\u001b[0m\u001b[0mdebug\u001b[0m\u001b[0;34m(\u001b[0m\u001b[0;34m\"Answer received: {0}\"\u001b[0m\u001b[0;34m.\u001b[0m\u001b[0mformat\u001b[0m\u001b[0;34m(\u001b[0m\u001b[0manswer\u001b[0m\u001b[0;34m)\u001b[0m\u001b[0;34m)\u001b[0m\u001b[0;34m\u001b[0m\u001b[0m\n\u001b[1;32m   1154\u001b[0m             \u001b[0;32mif\u001b[0m \u001b[0manswer\u001b[0m\u001b[0;34m.\u001b[0m\u001b[0mstartswith\u001b[0m\u001b[0;34m(\u001b[0m\u001b[0mproto\u001b[0m\u001b[0;34m.\u001b[0m\u001b[0mRETURN_MESSAGE\u001b[0m\u001b[0;34m)\u001b[0m\u001b[0;34m:\u001b[0m\u001b[0;34m\u001b[0m\u001b[0m\n",
      "\u001b[0;32m/opt/conda/lib/python3.6/socket.py\u001b[0m in \u001b[0;36mreadinto\u001b[0;34m(self, b)\u001b[0m\n\u001b[1;32m    584\u001b[0m         \u001b[0;32mwhile\u001b[0m \u001b[0;32mTrue\u001b[0m\u001b[0;34m:\u001b[0m\u001b[0;34m\u001b[0m\u001b[0m\n\u001b[1;32m    585\u001b[0m             \u001b[0;32mtry\u001b[0m\u001b[0;34m:\u001b[0m\u001b[0;34m\u001b[0m\u001b[0m\n\u001b[0;32m--> 586\u001b[0;31m                 \u001b[0;32mreturn\u001b[0m \u001b[0mself\u001b[0m\u001b[0;34m.\u001b[0m\u001b[0m_sock\u001b[0m\u001b[0;34m.\u001b[0m\u001b[0mrecv_into\u001b[0m\u001b[0;34m(\u001b[0m\u001b[0mb\u001b[0m\u001b[0;34m)\u001b[0m\u001b[0;34m\u001b[0m\u001b[0m\n\u001b[0m\u001b[1;32m    587\u001b[0m             \u001b[0;32mexcept\u001b[0m \u001b[0mtimeout\u001b[0m\u001b[0;34m:\u001b[0m\u001b[0;34m\u001b[0m\u001b[0m\n\u001b[1;32m    588\u001b[0m                 \u001b[0mself\u001b[0m\u001b[0;34m.\u001b[0m\u001b[0m_timeout_occurred\u001b[0m \u001b[0;34m=\u001b[0m \u001b[0;32mTrue\u001b[0m\u001b[0;34m\u001b[0m\u001b[0m\n",
      "\u001b[0;31mKeyboardInterrupt\u001b[0m: "
     ]
    }
   ],
   "source": [
    "missing.toPandas().T.rename(columns={0: 'Count'}).sort_values('Count', ascending=False)"
   ]
  },
  {
   "cell_type": "code",
   "execution_count": null,
   "metadata": {},
   "outputs": [],
   "source": [
    "del missing"
   ]
  },
  {
   "cell_type": "markdown",
   "metadata": {},
   "source": [
    "**length, song and artist** are missing when page is not \"NextSong\""
   ]
  },
  {
   "cell_type": "code",
   "execution_count": null,
   "metadata": {},
   "outputs": [],
   "source": [
    "# same amount of pages that are not NextSong as missing values for those columns\n",
    "df.filter(df.page != 'NextSong').count()"
   ]
  },
  {
   "cell_type": "code",
   "execution_count": 14,
   "metadata": {
    "collapsed": true
   },
   "outputs": [
    {
     "name": "stdout",
     "output_type": "stream",
     "text": [
      "+------+----+------+\n",
      "|length|song|artist|\n",
      "+------+----+------+\n",
      "|  null|null|  null|\n",
      "|  null|null|  null|\n",
      "|  null|null|  null|\n",
      "|  null|null|  null|\n",
      "|  null|null|  null|\n",
      "+------+----+------+\n",
      "only showing top 5 rows\n",
      "\n"
     ]
    }
   ],
   "source": [
    "df.filter(df.page != 'NextSong').select(['length', 'song', 'artist']).show(5)"
   ]
  },
  {
   "cell_type": "markdown",
   "metadata": {},
   "source": [
    "**registration, location, lastName, gender, firstName, userAgent** are missing when userId is an empty string"
   ]
  },
  {
   "cell_type": "code",
   "execution_count": 15,
   "metadata": {},
   "outputs": [
    {
     "name": "stdout",
     "output_type": "stream",
     "text": [
      "+------------+--------+--------+------+---------+---------+\n",
      "|registration|location|lastName|gender|firstName|userAgent|\n",
      "+------------+--------+--------+------+---------+---------+\n",
      "|        null|    null|    null|  null|     null|     null|\n",
      "|        null|    null|    null|  null|     null|     null|\n",
      "|        null|    null|    null|  null|     null|     null|\n",
      "|        null|    null|    null|  null|     null|     null|\n",
      "|        null|    null|    null|  null|     null|     null|\n",
      "+------------+--------+--------+------+---------+---------+\n",
      "only showing top 5 rows\n",
      "\n"
     ]
    }
   ],
   "source": [
    "df.filter(df.userId == \"\").select(['registration', 'location', 'lastName', 'gender', \n",
    "                                   'firstName', 'userAgent']).show(5)"
   ]
  },
  {
   "cell_type": "code",
   "execution_count": 16,
   "metadata": {},
   "outputs": [
    {
     "name": "stdout",
     "output_type": "stream",
     "text": [
      "+------+\n",
      "|userId|\n",
      "+------+\n",
      "|      |\n",
      "+------+\n",
      "\n"
     ]
    }
   ],
   "source": [
    "# Registration, as an example, has only empty strings as unique values for userId\n",
    "\n",
    "df.where(F.col(\"registration\").isNull()).select('userId').drop_duplicates().show()"
   ]
  },
  {
   "cell_type": "code",
   "execution_count": 17,
   "metadata": {},
   "outputs": [
    {
     "data": {
      "text/plain": [
       "8346"
      ]
     },
     "execution_count": 17,
     "metadata": {},
     "output_type": "execute_result"
    }
   ],
   "source": [
    "# same amount of empty strings for userId as missing values for the other columns\n",
    "df.where(df.userId==\"\").count()"
   ]
  },
  {
   "cell_type": "markdown",
   "metadata": {},
   "source": [
    "**Pages that these userIds that are empty strings have visited**"
   ]
  },
  {
   "cell_type": "code",
   "execution_count": 18,
   "metadata": {},
   "outputs": [],
   "source": [
    "allpages = df.select('page').dropDuplicates().collect()\n",
    "\n",
    "visited = df.where(df.userId==\"\").select('page').dropDuplicates().collect()"
   ]
  },
  {
   "cell_type": "code",
   "execution_count": 19,
   "metadata": {},
   "outputs": [
    {
     "data": {
      "text/plain": [
       "['Home', 'About', 'Submit Registration', 'Login', 'Register', 'Help', 'Error']"
      ]
     },
     "execution_count": 19,
     "metadata": {},
     "output_type": "execute_result"
    }
   ],
   "source": [
    "visited = [p[0] for p in visited]\n",
    "visited"
   ]
  },
  {
   "cell_type": "code",
   "execution_count": 20,
   "metadata": {},
   "outputs": [
    {
     "data": {
      "text/plain": [
       "['Cancel',\n",
       " 'Submit Downgrade',\n",
       " 'Thumbs Down',\n",
       " 'Home',\n",
       " 'Downgrade',\n",
       " 'Roll Advert',\n",
       " 'Logout',\n",
       " 'Save Settings',\n",
       " 'Cancellation Confirmation',\n",
       " 'About',\n",
       " 'Submit Registration',\n",
       " 'Settings',\n",
       " 'Login',\n",
       " 'Register',\n",
       " 'Add to Playlist',\n",
       " 'Add Friend',\n",
       " 'NextSong',\n",
       " 'Thumbs Up',\n",
       " 'Help',\n",
       " 'Upgrade',\n",
       " 'Error',\n",
       " 'Submit Upgrade']"
      ]
     },
     "execution_count": 20,
     "metadata": {},
     "output_type": "execute_result"
    }
   ],
   "source": [
    "unvisited = [p[0] for p in allpages if p not in visited]\n",
    "unvisited"
   ]
  },
  {
   "cell_type": "markdown",
   "metadata": {},
   "source": [
    "**We will drop userIds that are empty strings** as they are users that didn't use the platform (probably because they could not register)."
   ]
  },
  {
   "cell_type": "code",
   "execution_count": 4,
   "metadata": {},
   "outputs": [],
   "source": [
    "df = df.filter(df.userId != \"\")"
   ]
  },
  {
   "cell_type": "code",
   "execution_count": 22,
   "metadata": {},
   "outputs": [
    {
     "data": {
      "text/plain": [
       "278154"
      ]
     },
     "execution_count": 22,
     "metadata": {},
     "output_type": "execute_result"
    }
   ],
   "source": [
    "df.count()"
   ]
  },
  {
   "cell_type": "markdown",
   "metadata": {},
   "source": [
    "### From timestamps to time columns"
   ]
  },
  {
   "cell_type": "markdown",
   "metadata": {},
   "source": [
    "**create date column**"
   ]
  },
  {
   "cell_type": "code",
   "execution_count": 38,
   "metadata": {},
   "outputs": [],
   "source": [
    "def get_date_string(ts): \n",
    "    return datetime.fromtimestamp(ts/1000.0).strftime('%Y-%m-%d %H:%M:%S')\n",
    "    \n",
    "get_date = F.udf(lambda ts: get_date_string(ts))"
   ]
  },
  {
   "cell_type": "code",
   "execution_count": 39,
   "metadata": {},
   "outputs": [],
   "source": [
    "df = df.withColumn('date', get_date(df.ts))"
   ]
  },
  {
   "cell_type": "markdown",
   "metadata": {},
   "source": [
    "**hour, day and weekday**"
   ]
  },
  {
   "cell_type": "code",
   "execution_count": 40,
   "metadata": {},
   "outputs": [],
   "source": [
    "# functions\n",
    "\n",
    "get_hour_udf = F.udf(lambda ts: datetime.fromtimestamp(ts/1000.0).hour)\n",
    "get_day_udf = F.udf(lambda ts: datetime.fromtimestamp(ts/1000.0).day)\n",
    "get_weekday_udf = F.udf(lambda ts: datetime.fromtimestamp(ts/1000.0).weekday())"
   ]
  },
  {
   "cell_type": "code",
   "execution_count": 41,
   "metadata": {},
   "outputs": [],
   "source": [
    "# create columns\n",
    "\n",
    "df = df.withColumn('hour', get_hour_udf(df.ts))\n",
    "df = df.withColumn('day', get_day_udf(df.ts))\n",
    "df = df.withColumn('weekday', get_weekday_udf(df.ts)) # monday is 0, sunday is 6"
   ]
  },
  {
   "cell_type": "markdown",
   "metadata": {},
   "source": [
    "**days since registration**"
   ]
  },
  {
   "cell_type": "code",
   "execution_count": 116,
   "metadata": {},
   "outputs": [],
   "source": [
    "# 86400000 miliseconds in 1 day\n",
    "df = df.withColumn('days_since_registration', \n",
    "                   F.round((F.col('ts') - F.col('registration'))/86400000))"
   ]
  },
  {
   "cell_type": "markdown",
   "metadata": {},
   "source": [
    "## Exploratory Data Analysis"
   ]
  },
  {
   "cell_type": "code",
   "execution_count": 7,
   "metadata": {},
   "outputs": [],
   "source": [
    "def value_counts(df, column, figsize= 'default', n_show= 'max'):\n",
    "    \"\"\" Prints a table and a barplot with Count and percentage \n",
    "    for each level in column \n",
    "    INPUTS:\n",
    "        df: pyspark dataframe\n",
    "        column - string: column name to count levels for \n",
    "        figsize - tuple: size of figure for barplot. If unspecified, default is used\n",
    "        unless than more than 5 levels are plotted in which case (15,5) is used.\n",
    "        n_show - int: number of column levels to plot. If unspecified, max 10 levels \n",
    "        are plotted \"\"\"\n",
    "    \n",
    "    import pyspark.sql.functions as F\n",
    "\n",
    "                \n",
    "    # For columns related to userId, we need to get unique_users first\n",
    "    if column in ['gender', 'has_churned', 'location']:\n",
    "        \n",
    "        # df = unique users\n",
    "        df = df.select(['userId', column]).dropDuplicates()\n",
    "        \n",
    "    else:\n",
    "        df = df\n",
    "    \n",
    "    \n",
    "    ### Table\n",
    "    col_df = df.groupBy(column).agg(\n",
    "            (F.count(column)).alias('Count'),\n",
    "            (F.round(F.count(column) / df.count() * 100, 2)).alias('percentage')) \\\n",
    "            .orderBy('Count', ascending=False)\n",
    "    col_df.show()\n",
    "    \n",
    "    ### Barplot\n",
    "    \n",
    "    # n_show and figsize\n",
    "    if n_show == 'max': \n",
    "        n_show = dfr.select(column).dropDuplicates().count()\n",
    "        if n_show > 10: n_show = 10\n",
    "        \n",
    "    if figsize == 'default':\n",
    "        if n_show > 5: figsize = (15,5)\n",
    "        else: figsize = (6,4)\n",
    "    \n",
    "    # Plot\n",
    "    fig, ax = plt.subplots(figsize= figsize)\n",
    "    sns.barplot(x= column, y= 'percentage', data= col_df.toPandas()[:n_show], ax=ax);"
   ]
  },
  {
   "cell_type": "markdown",
   "metadata": {},
   "source": [
    "**gender**\n",
    "- Percentage of users in each classical gender"
   ]
  },
  {
   "cell_type": "code",
   "execution_count": 31,
   "metadata": {
    "scrolled": true
   },
   "outputs": [
    {
     "name": "stdout",
     "output_type": "stream",
     "text": [
      "+------+-----+----------+\n",
      "|gender|Count|percentage|\n",
      "+------+-----+----------+\n",
      "|     M|  121|     53.78|\n",
      "|     F|  104|     46.22|\n",
      "+------+-----+----------+\n",
      "\n"
     ]
    },
    {
     "data": {
      "image/png": "[encoded data removed]",
      "text/plain": [
       "<matplotlib.figure.Figure at 0x7f0c14e9e278>"
      ]
     },
     "metadata": {
      "needs_background": "light"
     },
     "output_type": "display_data"
    }
   ],
   "source": [
    "value_counts(df, 'gender')"
   ]
  },
  {
   "cell_type": "markdown",
   "metadata": {},
   "source": [
    "**page**\n",
    "- percentage of visits to each page"
   ]
  },
  {
   "cell_type": "code",
   "execution_count": 32,
   "metadata": {
    "scrolled": true
   },
   "outputs": [
    {
     "name": "stdout",
     "output_type": "stream",
     "text": [
      "+--------------------+------+----------+\n",
      "|                page| Count|percentage|\n",
      "+--------------------+------+----------+\n",
      "|            NextSong|228108|     82.01|\n",
      "|           Thumbs Up| 12551|      4.51|\n",
      "|                Home| 10082|      3.62|\n",
      "|     Add to Playlist|  6526|      2.35|\n",
      "|          Add Friend|  4277|      1.54|\n",
      "|         Roll Advert|  3933|      1.41|\n",
      "|              Logout|  3226|      1.16|\n",
      "|         Thumbs Down|  2546|      0.92|\n",
      "|           Downgrade|  2055|      0.74|\n",
      "|            Settings|  1514|      0.54|\n",
      "|                Help|  1454|      0.52|\n",
      "|             Upgrade|   499|      0.18|\n",
      "|               About|   495|      0.18|\n",
      "|       Save Settings|   310|      0.11|\n",
      "|               Error|   252|      0.09|\n",
      "|      Submit Upgrade|   159|      0.06|\n",
      "|    Submit Downgrade|    63|      0.02|\n",
      "|              Cancel|    52|      0.02|\n",
      "|Cancellation Conf...|    52|      0.02|\n",
      "+--------------------+------+----------+\n",
      "\n"
     ]
    },
    {
     "data": {
      "image/png": "[encoded data removed]",
      "text/plain": [
       "<matplotlib.figure.Figure at 0x7f0c14ddacf8>"
      ]
     },
     "metadata": {
      "needs_background": "light"
     },
     "output_type": "display_data"
    }
   ],
   "source": [
    "# Plot shows top 10\n",
    "value_counts(df, 'page')"
   ]
  },
  {
   "cell_type": "markdown",
   "metadata": {},
   "source": [
    "**auth**"
   ]
  },
  {
   "cell_type": "code",
   "execution_count": 33,
   "metadata": {
    "scrolled": true
   },
   "outputs": [
    {
     "name": "stdout",
     "output_type": "stream",
     "text": [
      "+---------+------+----------+\n",
      "|     auth| Count|percentage|\n",
      "+---------+------+----------+\n",
      "|Logged In|278102|     99.98|\n",
      "|Cancelled|    52|      0.02|\n",
      "+---------+------+----------+\n",
      "\n"
     ]
    },
    {
     "data": {
      "image/png": "[encoded data removed]",
      "text/plain": [
       "<matplotlib.figure.Figure at 0x7f0c14dfc7b8>"
      ]
     },
     "metadata": {
      "needs_background": "light"
     },
     "output_type": "display_data"
    }
   ],
   "source": [
    "value_counts(df, 'auth')"
   ]
  },
  {
   "cell_type": "markdown",
   "metadata": {},
   "source": [
    "**level**\n",
    "- percentage of events experienced per users while in free/paid level"
   ]
  },
  {
   "cell_type": "code",
   "execution_count": 34,
   "metadata": {},
   "outputs": [
    {
     "name": "stdout",
     "output_type": "stream",
     "text": [
      "+-----+------+----------+\n",
      "|level| Count|percentage|\n",
      "+-----+------+----------+\n",
      "| paid|222433|     79.97|\n",
      "| free| 55721|     20.03|\n",
      "+-----+------+----------+\n",
      "\n"
     ]
    },
    {
     "data": {
      "image/png": "[encoded data removed]",
      "text/plain": [
       "<matplotlib.figure.Figure at 0x7f0c14d19f98>"
      ]
     },
     "metadata": {
      "needs_background": "light"
     },
     "output_type": "display_data"
    }
   ],
   "source": [
    "value_counts(df, 'level')"
   ]
  },
  {
   "cell_type": "markdown",
   "metadata": {},
   "source": [
    "**from paid to free**"
   ]
  },
  {
   "cell_type": "markdown",
   "metadata": {},
   "source": [
    "- Cuantas veces paso que un usuario cambie de \"paid\" a \"free\"? (incluye casos donde mismo usuario cambiaron mas de una vez)"
   ]
  },
  {
   "cell_type": "code",
   "execution_count": 43,
   "metadata": {},
   "outputs": [],
   "source": [
    "# Flag \"Submit Downgrade\" page\n",
    "flag_downgrade = F.udf(lambda p: int(p == 'Submit Downgrade'), IntegerType())\n",
    "df = df.withColumn('downgraded', flag_downgrade('page'))\n",
    "\n",
    "# Create \"phase\" column as a cumulative sum per user (ordered by time)\n",
    "user_window = Window.partitionBy('userId').orderBy(F.desc('ts')) \\\n",
    "                    .rangeBetween(Window.unboundedPreceding, 0)\n",
    "df = df.withColumn('phase', F.sum('downgraded').over(user_window))"
   ]
  },
  {
   "cell_type": "markdown",
   "metadata": {},
   "source": [
    "Max phase value for each user es la cantidad de veces que ese usuario cambio de paid a free. La suma de todos esos maximos va a dar la cantida de veces total que sucedio que un usario cambie de paid a free."
   ]
  },
  {
   "cell_type": "code",
   "execution_count": 13,
   "metadata": {},
   "outputs": [],
   "source": [
    "phase_df = df.groupBy('userId').agg(F.max('phase').alias('max_phase'))"
   ]
  },
  {
   "cell_type": "code",
   "execution_count": 14,
   "metadata": {},
   "outputs": [
    {
     "name": "stdout",
     "output_type": "stream",
     "text": [
      "+------+---------+\n",
      "|userId|max_phase|\n",
      "+------+---------+\n",
      "|100010|        0|\n",
      "|200002|        0|\n",
      "|   125|        0|\n",
      "+------+---------+\n",
      "only showing top 3 rows\n",
      "\n"
     ]
    }
   ],
   "source": [
    "phase_df.show(3)"
   ]
  },
  {
   "cell_type": "code",
   "execution_count": 15,
   "metadata": {},
   "outputs": [
    {
     "data": {
      "text/plain": [
       "225"
      ]
     },
     "execution_count": 15,
     "metadata": {},
     "output_type": "execute_result"
    }
   ],
   "source": [
    "phase_df.count() # checking it is the number of users"
   ]
  },
  {
   "cell_type": "code",
   "execution_count": 16,
   "metadata": {},
   "outputs": [
    {
     "name": "stdout",
     "output_type": "stream",
     "text": [
      "+------+----------+\n",
      "|result|percentage|\n",
      "+------+----------+\n",
      "|    63|      28.0|\n",
      "+------+----------+\n",
      "\n"
     ]
    }
   ],
   "source": [
    "\"\"\" Amount of times that the event of a user downgrading service occurred\"\"\"\n",
    "\n",
    "phase_df.agg(\n",
    "    (F.sum('max_phase')).alias('result'),\n",
    "    (F.round((F.sum('max_phase'))/ phase_df.count() * 100, 2)).alias('percentage')) \\\n",
    "    .show()"
   ]
  },
  {
   "cell_type": "markdown",
   "metadata": {},
   "source": [
    "- cuantos usuarios cambiaron al menos una vez de paid a free?\n",
    "\n",
    "Since having a maximum value of 0 means you never downgraded the service, the users that downgraded the service at least once will have a maximum value of phase different from 0:"
   ]
  },
  {
   "cell_type": "code",
   "execution_count": 17,
   "metadata": {},
   "outputs": [],
   "source": [
    "n_downgraded = phase_df.filter(phase_df.max_phase!=0).count()\n",
    "percentage = round(n_downgraded / phase_df.count() * 100, 2)"
   ]
  },
  {
   "cell_type": "code",
   "execution_count": 18,
   "metadata": {},
   "outputs": [
    {
     "name": "stdout",
     "output_type": "stream",
     "text": [
      "49 users downgraded service at least once. 21.78 % of total users\n"
     ]
    }
   ],
   "source": [
    "print(n_downgraded, \"users downgraded service at least once.\", \n",
    "      percentage, \"% of total users\")"
   ]
  },
  {
   "cell_type": "code",
   "execution_count": 19,
   "metadata": {},
   "outputs": [],
   "source": [
    "del phase_df"
   ]
  },
  {
   "cell_type": "markdown",
   "metadata": {},
   "source": [
    "**How many songs are played per hour, day and weekday?**"
   ]
  },
  {
   "cell_type": "code",
   "execution_count": 30,
   "metadata": {},
   "outputs": [],
   "source": [
    "def plot_songs_per_timeunit(df, column):\n",
    "    \"\"\"\n",
    "    Function to plot number of songs played per unit of time.\n",
    "    \n",
    "    df - dataframe with column to plot\n",
    "    column - string - can be 'hour', 'day' or 'weekday'\n",
    "    \"\"\"\n",
    "    \n",
    "    songs_per_unit = df.filter(df.page == \"NextSong\").groupby(df[column]).count() \\\n",
    "                                                   .orderBy(dfr[column].cast(\"float\"))\n",
    "    \n",
    "    # maxs and mins for plot\n",
    "    max_n_songs = songs_per_unit.agg({\"count\": \"max\"}).collect()[0][0]\n",
    "    min_n_songs = songs_per_unit.agg({\"count\": \"min\"}).collect()[0][0]\n",
    "    \n",
    "    max_value_column = songs_per_unit.agg(F.max(songs_per_unit[column].cast(\"int\"))) \\\n",
    "                       .collect()[0][0] \n",
    "    min_value_column = songs_per_unit.agg(F.min(songs_per_unit[column].cast(\"int\"))) \\\n",
    "                       .collect()[0][0]\n",
    "    \n",
    "    # plot\n",
    "    plt.ylim((min_n_songs -500), (max_n_songs +500))\n",
    "    sns.barplot(x= column, y= 'count', data= songs_per_unit.toPandas(),\n",
    "               order= [str(n) for n in np.arange(min_value_column, max_value_column+1)]);"
   ]
  },
  {
   "cell_type": "markdown",
   "metadata": {},
   "source": [
    "**Songs per hour**"
   ]
  },
  {
   "cell_type": "code",
   "execution_count": 31,
   "metadata": {},
   "outputs": [
    {
     "data": {
      "image/png": "[encoded data removed]",
      "text/plain": [
       "<matplotlib.figure.Figure at 0x7ff77394e6a0>"
      ]
     },
     "metadata": {
      "needs_background": "light"
     },
     "output_type": "display_data"
    }
   ],
   "source": [
    "plot_songs_per_timeunit(df, 'hour')"
   ]
  },
  {
   "cell_type": "markdown",
   "metadata": {},
   "source": [
    "**Songs per day**"
   ]
  },
  {
   "cell_type": "code",
   "execution_count": 45,
   "metadata": {},
   "outputs": [
    {
     "data": {
      "image/png": "[encoded data removed]",
      "text/plain": [
       "<matplotlib.figure.Figure at 0x7f0c14b6ffd0>"
      ]
     },
     "metadata": {
      "needs_background": "light"
     },
     "output_type": "display_data"
    }
   ],
   "source": [
    "plot_songs_per_timeunit(df, 'day')"
   ]
  },
  {
   "cell_type": "markdown",
   "metadata": {},
   "source": [
    "**Songs per day of the week**"
   ]
  },
  {
   "cell_type": "code",
   "execution_count": 46,
   "metadata": {},
   "outputs": [
    {
     "data": {
      "image/png": "[encoded data removed]",
      "text/plain": [
       "<matplotlib.figure.Figure at 0x7f0c149d6fd0>"
      ]
     },
     "metadata": {
      "needs_background": "light"
     },
     "output_type": "display_data"
    }
   ],
   "source": [
    "# 0 is monday and 6 is sunday\n",
    "\n",
    "plot_songs_per_timeunit(df, 'weekday')"
   ]
  },
  {
   "cell_type": "markdown",
   "metadata": {},
   "source": [
    "## Churn Definition and Analysis of differences between groups"
   ]
  },
  {
   "cell_type": "markdown",
   "metadata": {},
   "source": [
    "Let's now define churn and explore the diffencess between users who chuned (churned_users) and users who stayed (stayed_users)."
   ]
  },
  {
   "cell_type": "code",
   "execution_count": 3,
   "metadata": {},
   "outputs": [],
   "source": [
    "# Churn\n",
    "user_window = Window.partitionBy('userId').orderBy(F.desc('ts')) \\\n",
    "                .rangeBetween(Window.unboundedPreceding, 0)\n",
    "\n",
    "flag_churn = F.udf(lambda p: int(p == \"Cancellation Confirmation\"), IntegerType())\n",
    "df = df.withColumn('is_churning', flag_churn(df.page))\n",
    "df = df.withColumn('has_churned', F.max('is_churning').over(user_window))"
   ]
  },
  {
   "cell_type": "markdown",
   "metadata": {},
   "source": [
    "- How many churned users do we have?"
   ]
  },
  {
   "cell_type": "code",
   "execution_count": 8,
   "metadata": {},
   "outputs": [
    {
     "name": "stdout",
     "output_type": "stream",
     "text": [
      "+-----------+-----+----------+\n",
      "|has_churned|Count|percentage|\n",
      "+-----------+-----+----------+\n",
      "|          0|  173|     76.89|\n",
      "|          1|   52|     23.11|\n",
      "+-----------+-----+----------+\n",
      "\n"
     ]
    },
    {
     "data": {
      "image/png": "[encoded data removed]",
      "text/plain": [
       "<Figure size 432x288 with 1 Axes>"
      ]
     },
     "metadata": {
      "needs_background": "light"
     },
     "output_type": "display_data"
    }
   ],
   "source": [
    "value_counts(df, 'has_churned')"
   ]
  },
  {
   "cell_type": "code",
   "execution_count": null,
   "metadata": {},
   "outputs": [],
   "source": []
  },
  {
   "cell_type": "code",
   "execution_count": 4,
   "metadata": {},
   "outputs": [],
   "source": [
    "def load_and_clean(path= \"mini_sparkify_event_data.json\"):\n",
    "    \"\"\" Loads and cleans dataframe for EDA and further feature engineering.\"\"\"\n",
    "    \n",
    "    # Loading\n",
    "    spark = SparkSession \\\n",
    "        .builder \\\n",
    "        .appName(\"Wrangling Data\") \\\n",
    "        .getOrCreate()\n",
    "\n",
    "    df = spark.read.json(path)\n",
    "    \n",
    "    # Dropping missing users\n",
    "    df = df.filter(df.userId != \"\")\n",
    "    \n",
    "    # Cleaning userId 155\n",
    "    min_ts_155 = df.filter(df.userId=='155').agg({'ts': 'min'}).collect()[0][0]\n",
    "    df = df.withColumn('registration', F.when(F.col('userId') == '155', min_ts_155)\\\n",
    "                        .otherwise(df.registration))\n",
    "\n",
    "    # Get date\n",
    "    df = df.withColumn(\"date\", F.to_date(F.from_unixtime(F.col('ts')/F.lit(1000))))\n",
    "\n",
    "    # Time columns\n",
    "    get_hour_udf = F.udf(lambda ts: datetime.fromtimestamp(ts/1000.0).hour)\n",
    "    get_day_udf = F.udf(lambda ts: datetime.fromtimestamp(ts/1000.0).day)\n",
    "    get_weekday_udf = F.udf(lambda ts: datetime.fromtimestamp(ts/1000.0).weekday())\n",
    "\n",
    "    df = df.withColumn('hour', get_hour_udf(df.ts))\n",
    "    df = df.withColumn('day', get_day_udf(df.ts))\n",
    "    df = df.withColumn('weekday', get_weekday_udf(df.ts)) # monday is 0, sunday is 6\n",
    "\n",
    "    # Days since registration\n",
    "    df = df.withColumn('registration_date', F.to_date(\n",
    "        F.from_unixtime(F.col('registration')/F.lit(1000))))\n",
    "    df = df.withColumn('days_since_registration', F.datediff(\n",
    "        F.col('date'), F.col('registration_date')))\n",
    "\n",
    "    # Churn\n",
    "    user_window = Window.partitionBy('userId').orderBy(F.desc('ts')) \\\n",
    "                    .rangeBetween(Window.unboundedPreceding, 0)\n",
    "\n",
    "    flag_churn = F.udf(lambda p: int(p == \"Cancellation Confirmation\"), IntegerType())\n",
    "    df = df.withColumn('is_churning', flag_churn(df.page))\n",
    "    df = df.withColumn('has_churned', F.max('is_churning').over(user_window))\n",
    "\n",
    "    return df"
   ]
  },
  {
   "cell_type": "code",
   "execution_count": 4,
   "metadata": {},
   "outputs": [],
   "source": [
    "df = load_and_clean()"
   ]
  },
  {
   "cell_type": "code",
   "execution_count": null,
   "metadata": {},
   "outputs": [],
   "source": []
  },
  {
   "cell_type": "markdown",
   "metadata": {},
   "source": [
    "### **level** "
   ]
  },
  {
   "cell_type": "markdown",
   "metadata": {},
   "source": [
    "- From all the users who were paid users at some point, what percentage of each group downgraded the service at least once? If there is a difference, it might be something to flag in order to predict churning"
   ]
  },
  {
   "cell_type": "code",
   "execution_count": 88,
   "metadata": {},
   "outputs": [],
   "source": [
    "once_paid_users = [u[0] for u in df.filter(df.level=='paid').select('userId') \\\n",
    "                   .dropDuplicates().collect()]"
   ]
  },
  {
   "cell_type": "code",
   "execution_count": 91,
   "metadata": {},
   "outputs": [
    {
     "data": {
      "text/plain": [
       "165"
      ]
     },
     "execution_count": 91,
     "metadata": {},
     "output_type": "execute_result"
    }
   ],
   "source": [
    "len(once_paid_users)"
   ]
  },
  {
   "cell_type": "code",
   "execution_count": 90,
   "metadata": {},
   "outputs": [
    {
     "name": "stdout",
     "output_type": "stream",
     "text": [
      "+------+-----------+---------+\n",
      "|userId|has_churned|max_phase|\n",
      "+------+-----------+---------+\n",
      "|200002|          0|        0|\n",
      "|   124|          0|        0|\n",
      "|    51|          1|        0|\n",
      "+------+-----------+---------+\n",
      "only showing top 3 rows\n",
      "\n"
     ]
    }
   ],
   "source": [
    "# Max_phase for each user is the amout of times that the user downgraded the service\n",
    "phase_df = df.filter(df.userId.isin(once_paid_users)) \\\n",
    "             .groupBy(['userId', 'has_churned']).agg(F.max('phase').alias('max_phase'))\n",
    "\n",
    "phase_df.show(3)"
   ]
  },
  {
   "cell_type": "code",
   "execution_count": 92,
   "metadata": {},
   "outputs": [
    {
     "data": {
      "text/plain": [
       "165"
      ]
     },
     "execution_count": 92,
     "metadata": {},
     "output_type": "execute_result"
    }
   ],
   "source": [
    "phase_df.count() # checking"
   ]
  },
  {
   "cell_type": "code",
   "execution_count": 95,
   "metadata": {},
   "outputs": [
    {
     "name": "stdout",
     "output_type": "stream",
     "text": [
      "Churning rate for all once_paid_users:\n",
      "+-------------------+\n",
      "|   avg(has_churned)|\n",
      "+-------------------+\n",
      "|0.21818181818181817|\n",
      "+-------------------+\n",
      "\n"
     ]
    }
   ],
   "source": [
    "print(\"Churning rate for all once_paid_users:\")\n",
    "phase_df.agg({'has_churned': 'avg'}).show()"
   ]
  },
  {
   "cell_type": "markdown",
   "metadata": {},
   "source": [
    "Since having a maximum value of 0 means you never downgraded the service, the users that downgraded the service at least once will have a maximum value of phase different from 0."
   ]
  },
  {
   "cell_type": "code",
   "execution_count": 96,
   "metadata": {},
   "outputs": [
    {
     "name": "stdout",
     "output_type": "stream",
     "text": [
      "Churning rate for once_paid_users that did NOT downgrade service:\n",
      "+-------------------+\n",
      "|   avg(has_churned)|\n",
      "+-------------------+\n",
      "|0.23275862068965517|\n",
      "+-------------------+\n",
      "\n"
     ]
    }
   ],
   "source": [
    "print(\"Churning rate for once_paid_users that did NOT downgrade service:\")\n",
    "phase_df.filter(phase_df.max_phase==0).agg({'has_churned': 'avg'}).show()"
   ]
  },
  {
   "cell_type": "code",
   "execution_count": 97,
   "metadata": {},
   "outputs": [
    {
     "name": "stdout",
     "output_type": "stream",
     "text": [
      "Churning rate for once_paid_users that DID downgrade service:\n",
      "+------------------+\n",
      "|  avg(has_churned)|\n",
      "+------------------+\n",
      "|0.1836734693877551|\n",
      "+------------------+\n",
      "\n"
     ]
    }
   ],
   "source": [
    "print(\"Churning rate for once_paid_users that DID downgrade service:\")\n",
    "phase_df.filter(phase_df.max_phase!=0).agg({'has_churned': 'avg'}).show()"
   ]
  },
  {
   "cell_type": "markdown",
   "metadata": {},
   "source": [
    "Apparently, paid users who didn't downgrade service are more likely to churn that those who did downgraded service. This is counterintuitive at first glance, but since there's a difference, flagging service downgrade might help the model to predict churning."
   ]
  },
  {
   "cell_type": "markdown",
   "metadata": {},
   "source": [
    "- What about users who were once_free_users?"
   ]
  },
  {
   "cell_type": "code",
   "execution_count": 98,
   "metadata": {},
   "outputs": [],
   "source": [
    "once_free_users = [u[0] for u in df.filter(df.level=='free').select('userId') \\\n",
    "                   .dropDuplicates().collect()]"
   ]
  },
  {
   "cell_type": "code",
   "execution_count": 100,
   "metadata": {},
   "outputs": [],
   "source": [
    "# Max_phase for each user is the amout of times that the user downgraded the service\n",
    "free_phase_df = df.filter(df.userId.isin(once_free_users)) \\\n",
    "               .groupBy(['userId', 'has_churned']).agg(F.max('phase').alias('max_phase'))"
   ]
  },
  {
   "cell_type": "code",
   "execution_count": 101,
   "metadata": {},
   "outputs": [
    {
     "name": "stdout",
     "output_type": "stream",
     "text": [
      "Churning rate for all once_free_users:\n",
      "+------------------+\n",
      "|  avg(has_churned)|\n",
      "+------------------+\n",
      "|0.2358974358974359|\n",
      "+------------------+\n",
      "\n"
     ]
    }
   ],
   "source": [
    "print(\"Churning rate for all once_free_users:\")\n",
    "free_phase_df.agg({'has_churned': 'avg'}).show()"
   ]
  },
  {
   "cell_type": "code",
   "execution_count": 103,
   "metadata": {},
   "outputs": [
    {
     "name": "stdout",
     "output_type": "stream",
     "text": [
      "Churning rate for once_free_users that did NOT downgrade service:\n",
      "+------------------+\n",
      "|  avg(has_churned)|\n",
      "+------------------+\n",
      "|0.2534246575342466|\n",
      "+------------------+\n",
      "\n"
     ]
    }
   ],
   "source": [
    "print(\"Churning rate for once_free_users that did NOT downgrade service:\")\n",
    "free_phase_df.filter(free_phase_df.max_phase==0).agg({'has_churned': 'avg'}).show()"
   ]
  },
  {
   "cell_type": "code",
   "execution_count": 104,
   "metadata": {},
   "outputs": [
    {
     "name": "stdout",
     "output_type": "stream",
     "text": [
      "Churning rate for once_free_users that DID downgrade service:\n",
      "+------------------+\n",
      "|  avg(has_churned)|\n",
      "+------------------+\n",
      "|0.1836734693877551|\n",
      "+------------------+\n",
      "\n"
     ]
    }
   ],
   "source": [
    "print(\"Churning rate for once_free_users that DID downgrade service:\")\n",
    "free_phase_df.filter(free_phase_df.max_phase!=0).agg({'has_churned': 'avg'}).show()"
   ]
  },
  {
   "cell_type": "markdown",
   "metadata": {},
   "source": [
    "The difference is in the same direction."
   ]
  },
  {
   "cell_type": "markdown",
   "metadata": {},
   "source": [
    "### Total general Activity"
   ]
  },
  {
   "cell_type": "code",
   "execution_count": 6,
   "metadata": {},
   "outputs": [],
   "source": [
    "dfr = df.filter((df.page!= 'Cancel') & (df.page != 'Cancellation Confirmation'))\n",
    "\n",
    "page_counts = dfr.groupby(['userId', 'page']).agg((F.count('page')).alias('Count')) \\\n",
    "                 .groupby('userId').pivot('page').sum('Count').fillna(0)"
   ]
  },
  {
   "cell_type": "code",
   "execution_count": 7,
   "metadata": {},
   "outputs": [],
   "source": [
    "gral_activity = page_counts.withColumn(\n",
    "    'gral_activity', np.sum([F.col(p) for p in page_counts.columns[1:]]))"
   ]
  },
  {
   "cell_type": "code",
   "execution_count": 8,
   "metadata": {},
   "outputs": [],
   "source": [
    "cols_to_drop = gral_activity.columns[1:-1]\n",
    "gral_activity_red = gral_activity.drop(*cols_to_drop)\n",
    "\n",
    "churn_status = dfr.select(['userId', 'has_churned']).dropDuplicates()\n",
    "joined = gral_activity_red.join(churn_status, on='userId')\n",
    "\n",
    "avg_gral_activity = joined.groupby('has_churned').agg({'gral_activity':'avg'})"
   ]
  },
  {
   "cell_type": "code",
   "execution_count": 9,
   "metadata": {},
   "outputs": [
    {
     "name": "stdout",
     "output_type": "stream",
     "text": [
      "+-----------+------------------+\n",
      "|has_churned|avg(gral_activity)|\n",
      "+-----------+------------------+\n",
      "|          1| 860.7692307692307|\n",
      "|          0|1348.4971098265896|\n",
      "+-----------+------------------+\n",
      "\n"
     ]
    }
   ],
   "source": [
    "avg_gral_activity.show()"
   ]
  },
  {
   "cell_type": "code",
   "execution_count": 12,
   "metadata": {
    "scrolled": true
   },
   "outputs": [
    {
     "data": {
      "image/png": "[encoded data removed]",
      "text/plain": [
       "<Figure size 432x288 with 1 Axes>"
      ]
     },
     "metadata": {
      "needs_background": "light"
     },
     "output_type": "display_data"
    }
   ],
   "source": [
    "sns.barplot(x= \"has_churned\", y= \"avg(gral_activity)\", data= avg_gral_activity.toPandas());"
   ]
  },
  {
   "cell_type": "markdown",
   "metadata": {},
   "source": [
    "It seems that churned_users have less activity in general, but let's explore if there's also a difference in the total number of days in the platform in average for each group."
   ]
  },
  {
   "cell_type": "markdown",
   "metadata": {},
   "source": [
    "### Days in platform\n",
    "We will consider total days in platform, meaning all days since registration until last interaction (including non-active days)."
   ]
  },
  {
   "cell_type": "code",
   "execution_count": 15,
   "metadata": {},
   "outputs": [],
   "source": [
    "total_days = df.groupby('userId', 'has_churned')\\\n",
    "                .agg(F.max('days_since_registration').alias('total_days'))"
   ]
  },
  {
   "cell_type": "code",
   "execution_count": 16,
   "metadata": {},
   "outputs": [
    {
     "data": {
      "image/png": "[encoded data removed]",
      "text/plain": [
       "<Figure size 576x360 with 1 Axes>"
      ]
     },
     "metadata": {
      "needs_background": "light"
     },
     "output_type": "display_data"
    }
   ],
   "source": [
    "total_days_pd = total_days.toPandas()\n",
    "fig, ax = plt.subplots(figsize= (8,5))\n",
    "sns.histplot(total_days_pd, x= 'total_days', alpha=.5, hue='has_churned', kde = True);"
   ]
  },
  {
   "cell_type": "code",
   "execution_count": 17,
   "metadata": {
    "scrolled": true
   },
   "outputs": [
    {
     "name": "stdout",
     "output_type": "stream",
     "text": [
      "+-----------+-----------------+\n",
      "|has_churned|  avg(total_days)|\n",
      "+-----------+-----------------+\n",
      "|          1|57.36538461538461|\n",
      "|          0|86.57803468208093|\n",
      "+-----------+-----------------+\n",
      "\n"
     ]
    }
   ],
   "source": [
    "total_days.groupby('has_churned').agg({'total_days':'avg'}).show()"
   ]
  },
  {
   "cell_type": "markdown",
   "metadata": {},
   "source": [
    "It looks like churned_users were in the platform less days in average than stayed_users as well. Therefore, we will check if churned_users are actually less active in average than stayed_users, weighting total activity by the number of days in the platform."
   ]
  },
  {
   "cell_type": "markdown",
   "metadata": {},
   "source": [
    "### General Activity weighted by days in platform"
   ]
  },
  {
   "cell_type": "code",
   "execution_count": 26,
   "metadata": {},
   "outputs": [],
   "source": [
    "def weight_by_days(grouped_df):\n",
    "    \"\"\" INPUT: df - dataframe with the average of any column grouped by has_churned.\n",
    "        OUTPUT: same averages weighted by total days in platform per group. \"\"\"\n",
    "    \n",
    "    # average total days per group\n",
    "    avg_days= df.groupby(['userId', 'has_churned']) \\\n",
    "                .agg(F.max('days_since_registration').alias('total_days')) \\\n",
    "                .groupby('has_churned').agg({'total_days':'avg'})\n",
    "    \n",
    "    temp = grouped_df.join(avg_days, on='has_churned')\n",
    "    \n",
    "    for c in temp.columns[1:]:\n",
    "        if c != 'avg(total_days)':\n",
    "            temp = temp.withColumn(c, F.col(c) / F.col('avg(total_days)'))\n",
    "\n",
    "    daily_df = temp.drop('avg(total_days)')\n",
    "\n",
    "    return daily_df"
   ]
  },
  {
   "cell_type": "code",
   "execution_count": 27,
   "metadata": {},
   "outputs": [],
   "source": [
    "daily_activity = weight_by_days(avg_gral_activity)"
   ]
  },
  {
   "cell_type": "code",
   "execution_count": 28,
   "metadata": {},
   "outputs": [
    {
     "name": "stdout",
     "output_type": "stream",
     "text": [
      "+-----------+------------------+\n",
      "|has_churned|avg(gral_activity)|\n",
      "+-----------+------------------+\n",
      "|          1|15.005028494803888|\n",
      "|          0|15.575510749098678|\n",
      "+-----------+------------------+\n",
      "\n"
     ]
    }
   ],
   "source": [
    "daily_activity.show()"
   ]
  },
  {
   "cell_type": "code",
   "execution_count": 29,
   "metadata": {},
   "outputs": [
    {
     "data": {
      "image/png": "[encoded data removed]",
      "text/plain": [
       "<Figure size 432x288 with 1 Axes>"
      ]
     },
     "metadata": {
      "needs_background": "light"
     },
     "output_type": "display_data"
    }
   ],
   "source": [
    "sns.barplot(x= \"has_churned\", y= \"avg(gral_activity)\", data= daily_activity.toPandas());"
   ]
  },
  {
   "cell_type": "markdown",
   "metadata": {},
   "source": [
    "Once it's weighted by the average number of days in platform, there's no difference in general activity between groups. Hence, from now on we will explore their  differences in relation to daily averages, rather than totals."
   ]
  },
  {
   "cell_type": "code",
   "execution_count": null,
   "metadata": {},
   "outputs": [],
   "source": []
  },
  {
   "cell_type": "markdown",
   "metadata": {},
   "source": [
    "### Proportion of users per page\n",
    "- Weighted by days in platform"
   ]
  },
  {
   "cell_type": "code",
   "execution_count": 32,
   "metadata": {},
   "outputs": [],
   "source": [
    "# page counts per user, plus has_churned\n",
    "page_counts_churn = page_counts.join(churn_status, on='userId')"
   ]
  },
  {
   "cell_type": "code",
   "execution_count": 33,
   "metadata": {},
   "outputs": [],
   "source": [
    "# avg of counts per group\n",
    "page_names = page_counts_churn.columns[1:]\n",
    "avg_per_page = page_counts_churn.groupby('has_churned')\\\n",
    "                                .agg({p:'avg' for p in page_names})"
   ]
  },
  {
   "cell_type": "code",
   "execution_count": 34,
   "metadata": {},
   "outputs": [],
   "source": [
    "# weight by total days in platform\n",
    "daily_counts = weight_by_days(avg_per_page)"
   ]
  },
  {
   "cell_type": "code",
   "execution_count": 36,
   "metadata": {},
   "outputs": [],
   "source": [
    "def prep_to_plot(weighted_df):\n",
    "    \"\"\" Transforms df to plot, and orders features by descending values \"\"\"\n",
    "    \n",
    "    melt_df = weighted_df.toPandas().melt(id_vars=[\"has_churned\"], \n",
    "                                             var_name=\"page\", value_name=\"value\")\n",
    "    \n",
    "    # order pages by descending value\n",
    "    order_pages = melt_df.sort_values(by=['value', 'page'], ascending=False)\\\n",
    "    .page.unique().tolist()\n",
    "    \n",
    "    # sort according to order_pages\n",
    "    sort_dict = {p:i for i,p in enumerate(order_pages)}\n",
    "    sorted_data = melt_df.iloc[melt_df['page'].map(sort_dict).sort_values().index]\n",
    "    \n",
    "    return sorted_data, order_pages"
   ]
  },
  {
   "cell_type": "code",
   "execution_count": 60,
   "metadata": {},
   "outputs": [],
   "source": [
    "sorted_data, order_pages = prep_to_plot(daily_counts)"
   ]
  },
  {
   "cell_type": "code",
   "execution_count": 38,
   "metadata": {},
   "outputs": [
    {
     "data": {
      "text/html": [
       "<div>\n",
       "<style scoped>\n",
       "    .dataframe tbody tr th:only-of-type {\n",
       "        vertical-align: middle;\n",
       "    }\n",
       "\n",
       "    .dataframe tbody tr th {\n",
       "        vertical-align: top;\n",
       "    }\n",
       "\n",
       "    .dataframe thead th {\n",
       "        text-align: right;\n",
       "    }\n",
       "</style>\n",
       "<table border=\"1\" class=\"dataframe\">\n",
       "  <thead>\n",
       "    <tr style=\"text-align: right;\">\n",
       "      <th></th>\n",
       "      <th>has_churned</th>\n",
       "      <th>page</th>\n",
       "      <th>value</th>\n",
       "    </tr>\n",
       "  </thead>\n",
       "  <tbody>\n",
       "    <tr>\n",
       "      <th>13</th>\n",
       "      <td>0</td>\n",
       "      <td>avg(NextSong)</td>\n",
       "      <td>12.799706</td>\n",
       "    </tr>\n",
       "    <tr>\n",
       "      <th>12</th>\n",
       "      <td>1</td>\n",
       "      <td>avg(NextSong)</td>\n",
       "      <td>12.200469</td>\n",
       "    </tr>\n",
       "    <tr>\n",
       "      <th>24</th>\n",
       "      <td>1</td>\n",
       "      <td>avg(Thumbs Up)</td>\n",
       "      <td>0.623198</td>\n",
       "    </tr>\n",
       "    <tr>\n",
       "      <th>25</th>\n",
       "      <td>0</td>\n",
       "      <td>avg(Thumbs Up)</td>\n",
       "      <td>0.713847</td>\n",
       "    </tr>\n",
       "    <tr>\n",
       "      <th>23</th>\n",
       "      <td>0</td>\n",
       "      <td>avg(Home)</td>\n",
       "      <td>0.561490</td>\n",
       "    </tr>\n",
       "    <tr>\n",
       "      <th>22</th>\n",
       "      <td>1</td>\n",
       "      <td>avg(Home)</td>\n",
       "      <td>0.560510</td>\n",
       "    </tr>\n",
       "  </tbody>\n",
       "</table>\n",
       "</div>"
      ],
      "text/plain": [
       "    has_churned            page      value\n",
       "13            0   avg(NextSong)  12.799706\n",
       "12            1   avg(NextSong)  12.200469\n",
       "24            1  avg(Thumbs Up)   0.623198\n",
       "25            0  avg(Thumbs Up)   0.713847\n",
       "23            0       avg(Home)   0.561490\n",
       "22            1       avg(Home)   0.560510"
      ]
     },
     "execution_count": 38,
     "metadata": {},
     "output_type": "execute_result"
    }
   ],
   "source": [
    "sorted_data.head(6)"
   ]
  },
  {
   "cell_type": "code",
   "execution_count": 110,
   "metadata": {},
   "outputs": [],
   "source": [
    "def plot(sorted_data, order_pages, n='all'):\n",
    "    \"\"\" Plots sorted data and order pages that you get from prep_to_plot(weighted_df).\n",
    "    n - number of columns to plot. By default, all are plotted \"\"\"\n",
    "    \n",
    "    if n=='all': \n",
    "        n = len(order_pages)\n",
    "    \n",
    "    if n > 3: figsize= (15,3)\n",
    "    else: figsize= (8,5)\n",
    "        \n",
    "    fig, ax = plt.subplots(figsize= figsize)\n",
    "    sns.barplot(x= \"page\", y= \"value\", hue= \"has_churned\", \n",
    "            data= sorted_data[:2*n], order= order_pages[:n]);"
   ]
  },
  {
   "cell_type": "code",
   "execution_count": 109,
   "metadata": {},
   "outputs": [
    {
     "data": {
      "image/png": "[encoded data removed]",
      "text/plain": [
       "<Figure size 576x360 with 1 Axes>"
      ]
     },
     "metadata": {
      "needs_background": "light"
     },
     "output_type": "display_data"
    }
   ],
   "source": [
    "# plot top 6\n",
    "plot(sorted_data, order_pages, n='all')"
   ]
  },
  {
   "cell_type": "markdown",
   "metadata": {},
   "source": [
    "It doesn't seem to be much difference considering pages individually. Let's try grouping them by the type of interaction they imply."
   ]
  },
  {
   "cell_type": "markdown",
   "metadata": {},
   "source": [
    "### Proportion of users per Type of Interaction\n",
    "\n",
    "We will explore the average of positive, neutral and negative interactions (weighted by days in platform). This is how \"type of in interaction\" will be defined:\n",
    "- **positive**: 'Thumbs Up', 'Add Friend' and 'Add to Playlist'\n",
    "- **neutral**: 'About', 'Home' and 'Settings'\n",
    "- **negative**: 'Thumbs Down', 'Error', 'Roll Advert'"
   ]
  },
  {
   "cell_type": "code",
   "execution_count": 111,
   "metadata": {},
   "outputs": [],
   "source": [
    "type_counts = page_counts.withColumn(\n",
    "    'positive_interact', F.col('Add Friend')+F.col('Add to Playlist')+F.col('Thumbs Up'))\n",
    "type_counts = type_counts.withColumn(\n",
    "    'negative_interact', F.col('Thumbs Down')+F.col('Error')+F.col('Roll Advert'))\n",
    "type_counts = type_counts.withColumn(\n",
    "    'neutral_interact', F.col('About')+F.col('Home')+F.col('Settings'))"
   ]
  },
  {
   "cell_type": "code",
   "execution_count": 112,
   "metadata": {},
   "outputs": [],
   "source": [
    "type_counts = type_counts.drop(*type_counts.columns[1:-3])"
   ]
  },
  {
   "cell_type": "code",
   "execution_count": 113,
   "metadata": {},
   "outputs": [],
   "source": [
    "type_names = type_counts.columns[1:]"
   ]
  },
  {
   "cell_type": "code",
   "execution_count": 114,
   "metadata": {},
   "outputs": [],
   "source": [
    "avg_per_type = type_counts.join(churn_status, on='userId').groupby('has_churned') \\\n",
    "                                         .agg({t:'avg' for t in type_names})"
   ]
  },
  {
   "cell_type": "code",
   "execution_count": 115,
   "metadata": {},
   "outputs": [],
   "source": [
    "daily_types = weight_by_days(avg_per_type)"
   ]
  },
  {
   "cell_type": "code",
   "execution_count": 116,
   "metadata": {},
   "outputs": [],
   "source": [
    "sorted_data, order_pages = prep_to_plot(daily_types)"
   ]
  },
  {
   "cell_type": "code",
   "execution_count": 59,
   "metadata": {},
   "outputs": [
    {
     "data": {
      "text/html": [
       "<div>\n",
       "<style scoped>\n",
       "    .dataframe tbody tr th:only-of-type {\n",
       "        vertical-align: middle;\n",
       "    }\n",
       "\n",
       "    .dataframe tbody tr th {\n",
       "        vertical-align: top;\n",
       "    }\n",
       "\n",
       "    .dataframe thead th {\n",
       "        text-align: right;\n",
       "    }\n",
       "</style>\n",
       "<table border=\"1\" class=\"dataframe\">\n",
       "  <thead>\n",
       "    <tr style=\"text-align: right;\">\n",
       "      <th></th>\n",
       "      <th>has_churned</th>\n",
       "      <th>page</th>\n",
       "      <th>value</th>\n",
       "    </tr>\n",
       "  </thead>\n",
       "  <tbody>\n",
       "    <tr>\n",
       "      <th>2</th>\n",
       "      <td>1</td>\n",
       "      <td>avg(positive_interact)</td>\n",
       "      <td>1.184378</td>\n",
       "    </tr>\n",
       "    <tr>\n",
       "      <th>3</th>\n",
       "      <td>0</td>\n",
       "      <td>avg(positive_interact)</td>\n",
       "      <td>1.323341</td>\n",
       "    </tr>\n",
       "    <tr>\n",
       "      <th>0</th>\n",
       "      <td>1</td>\n",
       "      <td>avg(neutral_interact)</td>\n",
       "      <td>0.669796</td>\n",
       "    </tr>\n",
       "    <tr>\n",
       "      <th>1</th>\n",
       "      <td>0</td>\n",
       "      <td>avg(neutral_interact)</td>\n",
       "      <td>0.673855</td>\n",
       "    </tr>\n",
       "    <tr>\n",
       "      <th>4</th>\n",
       "      <td>1</td>\n",
       "      <td>avg(negative_interact)</td>\n",
       "      <td>0.501173</td>\n",
       "    </tr>\n",
       "  </tbody>\n",
       "</table>\n",
       "</div>"
      ],
      "text/plain": [
       "   has_churned                    page     value\n",
       "2            1  avg(positive_interact)  1.184378\n",
       "3            0  avg(positive_interact)  1.323341\n",
       "0            1   avg(neutral_interact)  0.669796\n",
       "1            0   avg(neutral_interact)  0.673855\n",
       "4            1  avg(negative_interact)  0.501173"
      ]
     },
     "execution_count": 59,
     "metadata": {},
     "output_type": "execute_result"
    }
   ],
   "source": [
    "sorted_data.head()"
   ]
  },
  {
   "cell_type": "code",
   "execution_count": 117,
   "metadata": {},
   "outputs": [
    {
     "data": {
      "image/png": "[encoded data removed]",
      "text/plain": [
       "<Figure size 576x360 with 1 Axes>"
      ]
     },
     "metadata": {
      "needs_background": "light"
     },
     "output_type": "display_data"
    }
   ],
   "source": [
    "plot(sorted_data, order_pages)"
   ]
  },
  {
   "cell_type": "code",
   "execution_count": null,
   "metadata": {},
   "outputs": [],
   "source": []
  },
  {
   "cell_type": "markdown",
   "metadata": {},
   "source": [
    "### Average of downgrades and upgrades per group\n",
    "\n",
    "The number of downgrades is the amount of times a user changed from paid to free tier, which in some cases is more than one. The opposite happens for number of upgrades. In this case we will consider users who were paid users since the beginning as having upgraded at least once, since there's no other way to become a paid user than upgrading the service.\n",
    "\n",
    "As with the other features, we will weight the averages by total days in platform."
   ]
  },
  {
   "cell_type": "markdown",
   "metadata": {},
   "source": [
    "**n_downgraded**"
   ]
  },
  {
   "cell_type": "code",
   "execution_count": 73,
   "metadata": {},
   "outputs": [],
   "source": [
    "flag_downgrade = F.udf(lambda p: int(p == 'Submit Downgrade'), IntegerType())\n",
    "downgrad_df = df.withColumn('is_downgrading', flag_downgrade('page'))\n",
    "\n",
    "user_window = Window.partitionBy('userId').orderBy(F.desc('ts')) \\\n",
    "                    .rangeBetween(Window.unboundedPreceding, 0)\n",
    "\n",
    "# Create \"down_phase\" column as a cumulative sum per user (ordered by time)\n",
    "downgrad_df = downgrad_df.withColumn('down_phase', F.sum('is_downgrading') \\\n",
    "                                     .over(user_window))\n",
    "\n",
    "# Max down_phase is the number of times that a user changed from paid to free level\n",
    "downgrad_df = downgrad_df.groupBy(['userId', 'has_churned']).agg(F.max('down_phase') \\\n",
    "                                                .alias('n_downgraded'))"
   ]
  },
  {
   "cell_type": "markdown",
   "metadata": {},
   "source": [
    "**n_upgraded**"
   ]
  },
  {
   "cell_type": "markdown",
   "metadata": {},
   "source": [
    "1) Create first_level column to recognize those who started as paid users"
   ]
  },
  {
   "cell_type": "code",
   "execution_count": 76,
   "metadata": {},
   "outputs": [],
   "source": [
    "# obs: row_number() returns a sequential number starting at 1 within a window partition.\n",
    "# in this case, the first row corresponds to min(ts) (bc of how partition was made)\n",
    "# The other values are Null\n",
    "\n",
    "w = Window().partitionBy(\"userId\").orderBy(F.asc(\"ts\")) \n",
    "\n",
    "upgrad_df = df.withColumn(\"first_level\", F.when(F.row_number().over(w) == 1, \n",
    "                                                 F.col('level')))"
   ]
  },
  {
   "cell_type": "markdown",
   "metadata": {},
   "source": [
    "2) Flag upgrade considering page and first_level"
   ]
  },
  {
   "cell_type": "code",
   "execution_count": 77,
   "metadata": {},
   "outputs": [],
   "source": [
    "flag_upgrade = F.udf(lambda p, fl: int((p== 'Submit Upgrade') | (fl== 'paid')), \n",
    "                     IntegerType())\n",
    "\n",
    "upgrad_df = upgrad_df.withColumn('is_upgrading', \n",
    "                                 flag_upgrade(upgrad_df.page, upgrad_df.first_level))"
   ]
  },
  {
   "cell_type": "markdown",
   "metadata": {},
   "source": [
    "3) Create \"up_phase\" column as a cumulative sum per user (ordered by time)"
   ]
  },
  {
   "cell_type": "code",
   "execution_count": 78,
   "metadata": {},
   "outputs": [],
   "source": [
    "upgrad_df = upgrad_df.withColumn('up_phase', F.sum('is_upgrading').over(user_window))\n",
    "\n",
    "# Max up_phase is the number of times that a user changed from free to paid level\n",
    "upgrad_df = upgrad_df.groupBy('userId').agg(F.max('up_phase').alias('n_upgraded'))"
   ]
  },
  {
   "cell_type": "markdown",
   "metadata": {},
   "source": [
    "**join and get daily averages**"
   ]
  },
  {
   "cell_type": "code",
   "execution_count": 79,
   "metadata": {},
   "outputs": [],
   "source": [
    "avg_grades = downgrad_df.join(upgrad_df, on='userId').groupby('has_churned') \\\n",
    "                                         .agg({'n_downgraded':'avg', 'n_upgraded':'avg'})"
   ]
  },
  {
   "cell_type": "code",
   "execution_count": 80,
   "metadata": {},
   "outputs": [
    {
     "name": "stdout",
     "output_type": "stream",
     "text": [
      "+-----------+-------------------+------------------+\n",
      "|has_churned|  avg(n_downgraded)|   avg(n_upgraded)|\n",
      "+-----------+-------------------+------------------+\n",
      "|          1|0.17307692307692307|0.7692307692307693|\n",
      "|          0|0.31213872832369943|0.9653179190751445|\n",
      "+-----------+-------------------+------------------+\n",
      "\n"
     ]
    }
   ],
   "source": [
    "avg_grades.show()"
   ]
  },
  {
   "cell_type": "code",
   "execution_count": 81,
   "metadata": {},
   "outputs": [],
   "source": [
    "daily_grades = weight_by_days(avg_grades)"
   ]
  },
  {
   "cell_type": "code",
   "execution_count": 118,
   "metadata": {},
   "outputs": [],
   "source": [
    "sorted_data, order_pages = prep_to_plot(daily_grades)"
   ]
  },
  {
   "cell_type": "code",
   "execution_count": 83,
   "metadata": {},
   "outputs": [
    {
     "data": {
      "text/html": [
       "<div>\n",
       "<style scoped>\n",
       "    .dataframe tbody tr th:only-of-type {\n",
       "        vertical-align: middle;\n",
       "    }\n",
       "\n",
       "    .dataframe tbody tr th {\n",
       "        vertical-align: top;\n",
       "    }\n",
       "\n",
       "    .dataframe thead th {\n",
       "        text-align: right;\n",
       "    }\n",
       "</style>\n",
       "<table border=\"1\" class=\"dataframe\">\n",
       "  <thead>\n",
       "    <tr style=\"text-align: right;\">\n",
       "      <th></th>\n",
       "      <th>has_churned</th>\n",
       "      <th>page</th>\n",
       "      <th>value</th>\n",
       "    </tr>\n",
       "  </thead>\n",
       "  <tbody>\n",
       "    <tr>\n",
       "      <th>2</th>\n",
       "      <td>1</td>\n",
       "      <td>avg(n_upgraded)</td>\n",
       "      <td>0.013409</td>\n",
       "    </tr>\n",
       "    <tr>\n",
       "      <th>3</th>\n",
       "      <td>0</td>\n",
       "      <td>avg(n_upgraded)</td>\n",
       "      <td>0.011150</td>\n",
       "    </tr>\n",
       "    <tr>\n",
       "      <th>0</th>\n",
       "      <td>1</td>\n",
       "      <td>avg(n_downgraded)</td>\n",
       "      <td>0.003017</td>\n",
       "    </tr>\n",
       "    <tr>\n",
       "      <th>1</th>\n",
       "      <td>0</td>\n",
       "      <td>avg(n_downgraded)</td>\n",
       "      <td>0.003605</td>\n",
       "    </tr>\n",
       "  </tbody>\n",
       "</table>\n",
       "</div>"
      ],
      "text/plain": [
       "   has_churned               page     value\n",
       "2            1    avg(n_upgraded)  0.013409\n",
       "3            0    avg(n_upgraded)  0.011150\n",
       "0            1  avg(n_downgraded)  0.003017\n",
       "1            0  avg(n_downgraded)  0.003605"
      ]
     },
     "execution_count": 83,
     "metadata": {},
     "output_type": "execute_result"
    }
   ],
   "source": [
    "sorted_data.head()"
   ]
  },
  {
   "cell_type": "code",
   "execution_count": 119,
   "metadata": {},
   "outputs": [
    {
     "data": {
      "image/png": "[encoded data removed]",
      "text/plain": [
       "<Figure size 576x360 with 1 Axes>"
      ]
     },
     "metadata": {
      "needs_background": "light"
     },
     "output_type": "display_data"
    }
   ],
   "source": [
    "plot(sorted_data, order_pages)"
   ]
  },
  {
   "cell_type": "markdown",
   "metadata": {},
   "source": [
    "Interestingly, there seems to be a small difference between the groups, in a counter-intuitive direction. Apparently, churned_users are slightly more likely to upgrade their service, and stayed_users to downgrade it."
   ]
  },
  {
   "cell_type": "code",
   "execution_count": null,
   "metadata": {},
   "outputs": [],
   "source": []
  },
  {
   "cell_type": "code",
   "execution_count": null,
   "metadata": {},
   "outputs": [],
   "source": []
  },
  {
   "cell_type": "markdown",
   "metadata": {},
   "source": [
    "## Feature Engineering"
   ]
  },
  {
   "cell_type": "markdown",
   "metadata": {},
   "source": [
    "### **Features**\n",
    "\n",
    "- **gender**: male or female\n",
    "- **prop_activity**: proportion of active days over total days in platform (from registration to last interaction)\n",
    "- **once_paid**: 1 if the user has been a paid user at least once\n",
    "- **once_free**: 1 if the user has been a free user at least once\n",
    "- **avg_downgrad**: number of downgrades weighted by active days\n",
    "- **avg_upgrad**: number of uprades weighted by active days\n",
    "- **avg(positive)**: daily average of positive interactions                                         \n",
    "- **avg(negative)**: daily average of negative interactions\n",
    "- **avg(NextSong)**: daily average of songs listened to\n",
    "- **avg_sessions**: daily average of distinct sessions\n",
    "- **avg_items_session**: average of items per session\n",
    "- **avg_length_session**: daily average length per session in days\n",
    "- **avg_session_gap**: average gap between sessions in days\n",
    "\n",
    "--------------------------------------------------------------------------------\n",
    "**obs:** daily average considers only days in which the user was active in the platform (instead of the total amount of days the user has been registered)"
   ]
  },
  {
   "cell_type": "markdown",
   "metadata": {},
   "source": [
    "### gender"
   ]
  },
  {
   "cell_type": "code",
   "execution_count": 5,
   "metadata": {},
   "outputs": [],
   "source": [
    "gender_df = df.select(['userId', 'gender']).dropDuplicates()"
   ]
  },
  {
   "cell_type": "code",
   "execution_count": 6,
   "metadata": {},
   "outputs": [],
   "source": [
    "# encode\n",
    "gender_df = gender_df.withColumn(\"gender\", F.when(df[\"gender\"] == 'F', 1).otherwise(0))"
   ]
  },
  {
   "cell_type": "code",
   "execution_count": 167,
   "metadata": {},
   "outputs": [
    {
     "data": {
      "text/plain": [
       "225"
      ]
     },
     "execution_count": 167,
     "metadata": {},
     "output_type": "execute_result"
    }
   ],
   "source": [
    "gender_df.count()"
   ]
  },
  {
   "cell_type": "markdown",
   "metadata": {},
   "source": [
    "### prop_activity\n",
    "**Proportion of active days over total days**"
   ]
  },
  {
   "cell_type": "code",
   "execution_count": 9,
   "metadata": {},
   "outputs": [],
   "source": [
    "total_days = df.groupby('userId')\\\n",
    "               .agg(F.max('days_since_registration').alias('total_days'))\n",
    "active_days = df.groupby('userId').agg(F.countDistinct('date').alias('active_days'))"
   ]
  },
  {
   "cell_type": "code",
   "execution_count": 10,
   "metadata": {},
   "outputs": [],
   "source": [
    "avg_activity = total_days.join(active_days, on='userId').withColumn('prop_activity',\n",
    "                                         F.col('active_days')/F.col('total_days'))\\\n",
    "                                         .drop(*['active_days', 'total_days'])"
   ]
  },
  {
   "cell_type": "code",
   "execution_count": 170,
   "metadata": {},
   "outputs": [
    {
     "data": {
      "text/plain": [
       "225"
      ]
     },
     "execution_count": 170,
     "metadata": {},
     "output_type": "execute_result"
    }
   ],
   "source": [
    "avg_activity.count()"
   ]
  },
  {
   "cell_type": "markdown",
   "metadata": {},
   "source": [
    "### once_paid and once_free\n",
    "\n",
    "**Flags users that have ever been paid or free users respectively**"
   ]
  },
  {
   "cell_type": "code",
   "execution_count": 11,
   "metadata": {},
   "outputs": [],
   "source": [
    "# flag once_paid and once_free\n",
    "flag_paid = F.udf(lambda l: int(l == 'paid'), IntegerType())\n",
    "flag_free = F.udf(lambda l: int(l == 'free'), IntegerType())\n",
    "\n",
    "# is_paid is 1 whenever the user was in level == paid (same logic for is_free)\n",
    "df = df.withColumn('is_paid', flag_paid(df.level))\n",
    "df = df.withColumn('is_free', flag_free(df.level))"
   ]
  },
  {
   "cell_type": "code",
   "execution_count": 12,
   "metadata": {},
   "outputs": [],
   "source": [
    "once_level = df.groupby('userId').agg(\n",
    "    F.max('is_paid').alias('once_paid'),\n",
    "    F.max('is_free').alias('once_free'))"
   ]
  },
  {
   "cell_type": "code",
   "execution_count": 173,
   "metadata": {},
   "outputs": [
    {
     "data": {
      "text/plain": [
       "225"
      ]
     },
     "execution_count": 173,
     "metadata": {},
     "output_type": "execute_result"
    }
   ],
   "source": [
    "once_level.count()"
   ]
  },
  {
   "cell_type": "markdown",
   "metadata": {},
   "source": [
    "### avg_downgrad and avg_upgrad\n",
    "**number of downgrades and upgrades respectively, weighted by active days**"
   ]
  },
  {
   "cell_type": "code",
   "execution_count": 13,
   "metadata": {},
   "outputs": [],
   "source": [
    "### avg_downgrad\n",
    "user_window = Window.partitionBy('userId').orderBy(F.desc('ts')) \\\n",
    "                    .rangeBetween(Window.unboundedPreceding, 0)\n",
    "\n",
    "flag_downgrade = F.udf(lambda p: int(p == 'Submit Downgrade'), IntegerType())\n",
    "downgrad_df = df.withColumn('is_downgrading', flag_downgrade('page'))\n",
    "downgrad_df = downgrad_df.withColumn('down_phase', F.sum('is_downgrading') \\\n",
    "                                     .over(user_window))\n",
    "downgrad_df = downgrad_df.groupBy('userId').agg(F.max('down_phase') \\\n",
    "                                                .alias('n_downgraded'))   \n",
    "\n",
    "active_days = df.groupby('userId').agg(F.countDistinct('date')\\\n",
    "                                    .alias('active_days'))\n",
    "avg_downgrad = downgrad_df.join(active_days, on='userId').withColumn(\n",
    "                        'avg_downgrad', F.col('n_downgraded')/F.col('active_days'))\\\n",
    "                        .drop(*['n_downgraded', 'active_days'])"
   ]
  },
  {
   "cell_type": "code",
   "execution_count": 14,
   "metadata": {},
   "outputs": [],
   "source": [
    "### avg_upgrad\n",
    "w = Window().partitionBy(\"userId\").orderBy(F.asc(\"ts\")) \n",
    "upgrad_df = df.withColumn(\"first_level\", F.when(F.row_number().over(w) == 1, \n",
    "                                                F.col('level')))\n",
    "flag_upgrade = F.udf(lambda p, fl: int((p== 'Submit Upgrade') | (fl== 'paid')), \n",
    "                 IntegerType())\n",
    "upgrad_df = upgrad_df.withColumn('is_upgrading', \n",
    "                                 flag_upgrade(upgrad_df.page, upgrad_df.first_level))\n",
    "\n",
    "upgrad_df = upgrad_df.withColumn('up_phase', F.sum('is_upgrading').over(user_window))\n",
    "upgrad_df = upgrad_df.groupBy('userId').agg(F.max('up_phase').alias('n_upgraded'))\n",
    "\n",
    "avg_upgrad = upgrad_df.join(active_days, on='userId').withColumn(\n",
    "                            'avg_upgrad', F.col('n_upgraded')/F.col('active_days'))\\\n",
    "                            .drop(*['n_upgraded', 'active_days'])"
   ]
  },
  {
   "cell_type": "code",
   "execution_count": 176,
   "metadata": {},
   "outputs": [
    {
     "data": {
      "text/plain": [
       "(225, 225)"
      ]
     },
     "execution_count": 176,
     "metadata": {},
     "output_type": "execute_result"
    }
   ],
   "source": [
    "avg_downgrad.count(), avg_upgrad.count()"
   ]
  },
  {
   "cell_type": "markdown",
   "metadata": {},
   "source": [
    "### avg_positive and avg_negative\n",
    "**daily average of positive and negative interactions respectively** "
   ]
  },
  {
   "cell_type": "code",
   "execution_count": 15,
   "metadata": {},
   "outputs": [],
   "source": [
    "### avg(positive) and avg(negative)\n",
    "dfr = df.filter((df.page!= 'Cancel') & (df.page != 'Cancellation Confirmation'))\n",
    "page_counts = dfr.groupby(['userId', 'page']).agg((F.count('page')).alias('Count')) \\\n",
    "                 .groupby('userId').pivot('page').sum('Count').fillna(0)\n",
    "\n",
    "type_counts = page_counts.withColumn('positive_interact', \n",
    "                    F.col('Add Friend')+ F.col('Add to Playlist')+ F.col('Thumbs Up'))\n",
    "type_counts = type_counts.withColumn('negative_interact', \n",
    "                    F.col('Thumbs Down')+ F.col('Error')+ F.col('Roll Advert'))\n",
    "\n",
    "cols_to_drop = type_counts.columns[1:-2]\n",
    "type_counts_red = type_counts.drop(*cols_to_drop)\n",
    "\n",
    "joined = type_counts_red.join(active_days, on='userId')\n",
    "avg_types = joined.withColumn('avg_positive', \n",
    "                              F.col('positive_interact')/F.col('active_days')) \\\n",
    "                              .drop('positive_interact')\n",
    "avg_types = avg_types.withColumn('avg_negative', \n",
    "                                 F.col('negative_interact')/F.col('active_days')) \\\n",
    "                                 .drop(*['negative_interact', 'active_days'])"
   ]
  },
  {
   "cell_type": "code",
   "execution_count": 178,
   "metadata": {},
   "outputs": [
    {
     "data": {
      "text/plain": [
       "225"
      ]
     },
     "execution_count": 178,
     "metadata": {},
     "output_type": "execute_result"
    }
   ],
   "source": [
    "avg_types.count()"
   ]
  },
  {
   "cell_type": "markdown",
   "metadata": {},
   "source": [
    "### avg_songs\n",
    "**daily average of songs listened to**"
   ]
  },
  {
   "cell_type": "code",
   "execution_count": 16,
   "metadata": {},
   "outputs": [],
   "source": [
    "songs_count = page_counts.select('userId', 'NextSong')"
   ]
  },
  {
   "cell_type": "code",
   "execution_count": 17,
   "metadata": {},
   "outputs": [],
   "source": [
    "joined = songs_count.join(active_days, on='userId')\n",
    "avg_songs = joined.withColumn('avg_songs', \n",
    "                              F.col('NextSong')/F.col('active_days')) \\\n",
    "                              .drop('active_days')"
   ]
  },
  {
   "cell_type": "code",
   "execution_count": 181,
   "metadata": {},
   "outputs": [
    {
     "data": {
      "text/plain": [
       "225"
      ]
     },
     "execution_count": 181,
     "metadata": {},
     "output_type": "execute_result"
    }
   ],
   "source": [
    "avg_songs.count()"
   ]
  },
  {
   "cell_type": "markdown",
   "metadata": {},
   "source": [
    "### avg_sessions\n",
    "**daily average of distinct sessions**"
   ]
  },
  {
   "cell_type": "code",
   "execution_count": 18,
   "metadata": {},
   "outputs": [],
   "source": [
    "avg_sessions = df.groupby('userId','date').agg(F.countDistinct('sessionId') \\\n",
    "                                               .alias('sessions_per_day')) \\\n",
    "                 .groupBy('userId').agg(F.avg('sessions_per_day').alias('avg_sessions'))"
   ]
  },
  {
   "cell_type": "code",
   "execution_count": 183,
   "metadata": {},
   "outputs": [
    {
     "data": {
      "text/plain": [
       "225"
      ]
     },
     "execution_count": 183,
     "metadata": {},
     "output_type": "execute_result"
    }
   ],
   "source": [
    "avg_sessions.count()"
   ]
  },
  {
   "cell_type": "markdown",
   "metadata": {},
   "source": [
    "### avg_items_session\n",
    "**average of items per session**"
   ]
  },
  {
   "cell_type": "code",
   "execution_count": 19,
   "metadata": {},
   "outputs": [],
   "source": [
    "avg_items = df.groupby(['userId', 'sessionId']).agg(F.max('itemInSession') \\\n",
    "                                                   .alias('n_items_session')) \\\n",
    "              .groupby('userId').agg(F.avg('n_items_session').alias('avg_items_session'))"
   ]
  },
  {
   "cell_type": "code",
   "execution_count": 185,
   "metadata": {},
   "outputs": [
    {
     "data": {
      "text/plain": [
       "225"
      ]
     },
     "execution_count": 185,
     "metadata": {},
     "output_type": "execute_result"
    }
   ],
   "source": [
    "avg_items.count()"
   ]
  },
  {
   "cell_type": "markdown",
   "metadata": {},
   "source": [
    "### avg_length_session\n",
    "**daily average length per session in days**"
   ]
  },
  {
   "cell_type": "code",
   "execution_count": 20,
   "metadata": {},
   "outputs": [],
   "source": [
    "avg_session_length = dfr.groupby(['userId','date','sessionId']).agg(\n",
    "                                 F.min('ts').alias('start'), F.max('ts').alias('end')) \\\n",
    "                        .withColumn('session_length', (F.col('end') - F.col('start'))) \\\n",
    "                        .groupby(['userId', 'date']).agg(F.avg('session_length')\\\n",
    "                                                          .alias('avg_within_day')) \\\n",
    "                        .groupby('userId').agg((F.avg('avg_within_day')/ 86400000)\n",
    "                                                 .alias('avg_length_session'))"
   ]
  },
  {
   "cell_type": "code",
   "execution_count": 187,
   "metadata": {},
   "outputs": [
    {
     "data": {
      "text/plain": [
       "225"
      ]
     },
     "execution_count": 187,
     "metadata": {},
     "output_type": "execute_result"
    }
   ],
   "source": [
    "avg_session_length.count()"
   ]
  },
  {
   "cell_type": "markdown",
   "metadata": {},
   "source": [
    "### avg_session_gap\n",
    "**average gap between sessions in days**"
   ]
  },
  {
   "cell_type": "code",
   "execution_count": 21,
   "metadata": {},
   "outputs": [],
   "source": [
    "# mark the beggining and ending of a session\n",
    "session_marks_df = df.groupby('userId','sessionId').agg(F.min('ts').alias('begin_ts'),\n",
    "                                                        F.max('ts').alias('end_ts'))\n",
    "\n",
    "# create window partitioning by users\n",
    "w = Window.partitionBy('userID').orderBy('begin_ts')\n",
    "\n",
    "# create column flagging the ts of the last ending of a session (previous session) \n",
    "# obs: lag() by default returns the previous row at any given point in the partition\n",
    "session_marks_df = session_marks_df.withColumn('last_end', F.lag(F.col('end_ts')).over(w))\n",
    "\n",
    "# create gap column: new session ts (begin_ts) - previous session ts ('last_end')\n",
    "# obs: datediff(end, start) returns the number of days from start to end\n",
    "session_marks_df = session_marks_df.withColumn('session_gap', \n",
    "                                    (F.col('begin_ts') - F.col('last_end')))\n",
    "\n",
    "# get average of gaps\n",
    "avg_session_gap = session_marks_df.groupby('userId').agg((F.avg('session_gap') /86400000) \\\n",
    "                                                           .alias('avg_session_gap'))"
   ]
  },
  {
   "cell_type": "code",
   "execution_count": 189,
   "metadata": {},
   "outputs": [
    {
     "data": {
      "text/plain": [
       "225"
      ]
     },
     "execution_count": 189,
     "metadata": {},
     "output_type": "execute_result"
    }
   ],
   "source": [
    "avg_session_gap.count()"
   ]
  },
  {
   "cell_type": "markdown",
   "metadata": {},
   "source": [
    "### Joining all features together"
   ]
  },
  {
   "cell_type": "code",
   "execution_count": 22,
   "metadata": {},
   "outputs": [],
   "source": [
    "### joining all together\n",
    "all_features = gender_df \\\n",
    "                        .join(avg_activity, on='userId')\\\n",
    "                        .join(once_level, on='userId')\\\n",
    "                        .join(avg_downgrad, on='userId')\\\n",
    "                        .join(avg_upgrad, on='userId')\\\n",
    "                        .join(avg_types, on='userId')\\\n",
    "                        .join(avg_songs, on='userId')\\\n",
    "                        .join(avg_sessions, on='userId')\\\n",
    "                        .join(avg_items, on='userId')\\\n",
    "                        .join(avg_session_length, on='userId')\\\n",
    "                        .join(avg_session_gap, on='userId')"
   ]
  },
  {
   "cell_type": "markdown",
   "metadata": {},
   "source": [
    "### Checking correlations"
   ]
  },
  {
   "cell_type": "code",
   "execution_count": 23,
   "metadata": {},
   "outputs": [],
   "source": [
    "feats_pd = all_features.toPandas()"
   ]
  },
  {
   "cell_type": "code",
   "execution_count": 191,
   "metadata": {},
   "outputs": [
    {
     "data": {
      "image/png": "[encoded data removed]",
      "text/plain": [
       "<Figure size 864x864 with 2 Axes>"
      ]
     },
     "metadata": {
      "needs_background": "light"
     },
     "output_type": "display_data"
    }
   ],
   "source": [
    "plt.figure(figsize= [12, 12])\n",
    "sns.heatmap(feats_pd.corr(), annot=True);"
   ]
  },
  {
   "cell_type": "markdown",
   "metadata": {},
   "source": [
    "Let's assess **multicollinearity** now using the **Variance Inflation Factor (VIF)**\n",
    "\n",
    "Correlation matrix and scatter plots only show the bivariate relationship between the independent variables. VIF can show the correlation of a variable with a group of other variables."
   ]
  },
  {
   "cell_type": "code",
   "execution_count": 24,
   "metadata": {},
   "outputs": [],
   "source": [
    "# we need to drop nan values and userId\n",
    "feats_pd.dropna(inplace=True)\n",
    "feats_pd = feats_pd.drop('userId', axis=1)"
   ]
  },
  {
   "cell_type": "code",
   "execution_count": 193,
   "metadata": {},
   "outputs": [
    {
     "data": {
      "text/plain": [
       "Index(['gender', 'prop_activity', 'once_paid', 'once_free', 'avg_downgrad',\n",
       "       'avg_upgrad', 'avg_positive', 'avg_negative', 'NextSong', 'avg_songs',\n",
       "       'avg_sessions', 'avg_items_session', 'avg_length_session',\n",
       "       'avg_session_gap'],\n",
       "      dtype='object')"
      ]
     },
     "execution_count": 193,
     "metadata": {},
     "output_type": "execute_result"
    }
   ],
   "source": [
    "feats_pd.columns"
   ]
  },
  {
   "cell_type": "code",
   "execution_count": 25,
   "metadata": {},
   "outputs": [],
   "source": [
    "from statsmodels.stats.outliers_influence import variance_inflation_factor\n",
    "\n",
    "def calculate_vif(X):\n",
    "    \"\"\"Function to calculate variance inflation factor (VIF) \n",
    "    given a dataframe with numerical variables\"\"\"\n",
    "\n",
    "    # Calculating VIF\n",
    "    vif = pd.DataFrame()\n",
    "    vif[\"variables\"] = X.columns\n",
    "    vif[\"VIF\"] = [variance_inflation_factor(X.values, i) for i in range(X.shape[1])]\n",
    "\n",
    "    return(vif)"
   ]
  },
  {
   "cell_type": "code",
   "execution_count": 26,
   "metadata": {},
   "outputs": [
    {
     "data": {
      "text/html": [
       "<div>\n",
       "<style scoped>\n",
       "    .dataframe tbody tr th:only-of-type {\n",
       "        vertical-align: middle;\n",
       "    }\n",
       "\n",
       "    .dataframe tbody tr th {\n",
       "        vertical-align: top;\n",
       "    }\n",
       "\n",
       "    .dataframe thead th {\n",
       "        text-align: right;\n",
       "    }\n",
       "</style>\n",
       "<table border=\"1\" class=\"dataframe\">\n",
       "  <thead>\n",
       "    <tr style=\"text-align: right;\">\n",
       "      <th></th>\n",
       "      <th>variables</th>\n",
       "      <th>VIF</th>\n",
       "    </tr>\n",
       "  </thead>\n",
       "  <tbody>\n",
       "    <tr>\n",
       "      <th>9</th>\n",
       "      <td>avg_songs</td>\n",
       "      <td>209.895451</td>\n",
       "    </tr>\n",
       "    <tr>\n",
       "      <th>12</th>\n",
       "      <td>avg_length_session</td>\n",
       "      <td>145.437541</td>\n",
       "    </tr>\n",
       "    <tr>\n",
       "      <th>11</th>\n",
       "      <td>avg_items_session</td>\n",
       "      <td>56.796456</td>\n",
       "    </tr>\n",
       "    <tr>\n",
       "      <th>6</th>\n",
       "      <td>avg_positive</td>\n",
       "      <td>38.220928</td>\n",
       "    </tr>\n",
       "    <tr>\n",
       "      <th>10</th>\n",
       "      <td>avg_sessions</td>\n",
       "      <td>34.598014</td>\n",
       "    </tr>\n",
       "  </tbody>\n",
       "</table>\n",
       "</div>"
      ],
      "text/plain": [
       "             variables         VIF\n",
       "9            avg_songs  209.895451\n",
       "12  avg_length_session  145.437541\n",
       "11   avg_items_session   56.796456\n",
       "6         avg_positive   38.220928\n",
       "10        avg_sessions   34.598014"
      ]
     },
     "execution_count": 26,
     "metadata": {},
     "output_type": "execute_result"
    }
   ],
   "source": [
    "VIF_df = calculate_vif(feats_pd)\n",
    "VIF_df.sort_values(by='VIF', ascending=False)[:5]"
   ]
  },
  {
   "cell_type": "markdown",
   "metadata": {},
   "source": [
    "We will drop 'avg_songs' and 'avg_length_session' since they are the ones with the highest multicollinearity."
   ]
  },
  {
   "cell_type": "code",
   "execution_count": 27,
   "metadata": {},
   "outputs": [],
   "source": [
    "all_features = all_features.drop('avg_songs', 'avg_length_session')"
   ]
  },
  {
   "cell_type": "markdown",
   "metadata": {},
   "source": [
    "### Inspecting missing values"
   ]
  },
  {
   "cell_type": "code",
   "execution_count": 29,
   "metadata": {},
   "outputs": [],
   "source": [
    "missing = all_features.select([F.count(F.when(\n",
    "    (F.col(c) == '')  | F.col(c).isNull() | F.isnan(c), c)) \\\n",
    "    .alias(c) for c in all_features.columns])"
   ]
  },
  {
   "cell_type": "code",
   "execution_count": 198,
   "metadata": {},
   "outputs": [
    {
     "data": {
      "text/plain": [
       "[Row(userId=0, gender=0, prop_activity=1, once_paid=0, once_free=0, avg_downgrad=0, avg_upgrad=0, avg_positive=0, avg_negative=0, NextSong=0, avg_sessions=0, avg_items_session=0, avg_session_gap=15)]"
      ]
     },
     "execution_count": 198,
     "metadata": {},
     "output_type": "execute_result"
    }
   ],
   "source": [
    "missing.collect()"
   ]
  },
  {
   "cell_type": "code",
   "execution_count": 30,
   "metadata": {},
   "outputs": [],
   "source": [
    "missing_users = [u[0] for u in all_features.filter(\n",
    "    all_features.avg_session_gap.isNull()).select('userId').collect()]"
   ]
  },
  {
   "cell_type": "code",
   "execution_count": 31,
   "metadata": {},
   "outputs": [
    {
     "data": {
      "text/plain": [
       "15"
      ]
     },
     "execution_count": 31,
     "metadata": {},
     "output_type": "execute_result"
    }
   ],
   "source": [
    "len(missing_users)"
   ]
  },
  {
   "cell_type": "markdown",
   "metadata": {},
   "source": [
    "These users have only one session, that's why the value for avg_session_gap is Null."
   ]
  },
  {
   "cell_type": "code",
   "execution_count": 32,
   "metadata": {},
   "outputs": [
    {
     "name": "stdout",
     "output_type": "stream",
     "text": [
      "+------+----------+\n",
      "|userId|n_sessions|\n",
      "+------+----------+\n",
      "|   125|         1|\n",
      "|   133|         1|\n",
      "|300007|         1|\n",
      "|100006|         1|\n",
      "|    19|         1|\n",
      "|300024|         1|\n",
      "|   156|         1|\n",
      "|   135|         1|\n",
      "|100024|         1|\n",
      "|100011|         1|\n",
      "|300003|         1|\n",
      "|100017|         1|\n",
      "|    63|         1|\n",
      "|    72|         1|\n",
      "|   151|         1|\n",
      "+------+----------+\n",
      "\n"
     ]
    }
   ],
   "source": [
    "# Checking number of sessions per user in missing_users\n",
    "n_sessions_df = df.groupby('userId',).agg(F.countDistinct('sessionId')\n",
    "                                           .alias('n_sessions'))\n",
    "\n",
    "n_sessions_df.filter(n_sessions_df.userId.isin(missing_users)).show()"
   ]
  },
  {
   "cell_type": "markdown",
   "metadata": {},
   "source": [
    "Nevertheless, we have in this group free and paid users who have churned and who have not, meaning that having only one session does not necessary imply churning (which would have been a case of data leakage in this case). In fact, some might be new users (specially if we expect new data coming in). Therefore we will keep them and we will replace Null values by 0."
   ]
  },
  {
   "cell_type": "code",
   "execution_count": 33,
   "metadata": {},
   "outputs": [],
   "source": [
    "df = df.withColumn('is_downgrading', flag_downgrade('page'))"
   ]
  },
  {
   "cell_type": "code",
   "execution_count": 34,
   "metadata": {},
   "outputs": [],
   "source": [
    "df = df.withColumn('has_downgraded', F.max('is_downgrading').over(user_window))"
   ]
  },
  {
   "cell_type": "code",
   "execution_count": 39,
   "metadata": {},
   "outputs": [
    {
     "name": "stdout",
     "output_type": "stream",
     "text": [
      "+------+-----+--------------+-----------+-----------------------+\n",
      "|userId|level|has_downgraded|has_churned|days_since_registration|\n",
      "+------+-----+--------------+-----------+-----------------------+\n",
      "|   125| free|             0|          1|                     72|\n",
      "|   133| free|             0|          0|                     40|\n",
      "|300007| paid|             0|          1|                     12|\n",
      "|300007| paid|             0|          1|                     11|\n",
      "|100006| free|             0|          1|                      9|\n",
      "|    19| paid|             0|          0|                     22|\n",
      "|    19| paid|             0|          0|                     21|\n",
      "|300024| paid|             0|          0|                     39|\n",
      "|   135| free|             0|          0|                     72|\n",
      "|   156| free|             0|          0|                      0|\n",
      "+------+-----+--------------+-----------+-----------------------+\n",
      "only showing top 10 rows\n",
      "\n"
     ]
    }
   ],
   "source": [
    "df.filter(df.userId.isin(missing_users)).select(\n",
    "    'userId', 'level', 'has_downgraded', 'has_churned', 'days_since_registration') \\\n",
    "    .dropDuplicates().show(10)"
   ]
  },
  {
   "cell_type": "code",
   "execution_count": 40,
   "metadata": {},
   "outputs": [
    {
     "name": "stdout",
     "output_type": "stream",
     "text": [
      "+-------+------------------+\n",
      "|summary|   avg_session_gap|\n",
      "+-------+------------------+\n",
      "|  count|               210|\n",
      "|   mean| 5.427159180954192|\n",
      "| stddev|5.4153965898948275|\n",
      "|    min|0.3323418209876543|\n",
      "|    max|44.341203703703705|\n",
      "+-------+------------------+\n",
      "\n"
     ]
    }
   ],
   "source": [
    "# describe and distribution\n",
    "\n",
    "all_features.describe('avg_session_gap').show()"
   ]
  },
  {
   "cell_type": "code",
   "execution_count": 41,
   "metadata": {},
   "outputs": [],
   "source": [
    "feats_pd = all_features.toPandas()"
   ]
  },
  {
   "cell_type": "code",
   "execution_count": 42,
   "metadata": {},
   "outputs": [
    {
     "data": {
      "image/png": "[encoded data removed]",
      "text/plain": [
       "<Figure size 432x288 with 1 Axes>"
      ]
     },
     "metadata": {
      "needs_background": "light"
     },
     "output_type": "display_data"
    }
   ],
   "source": [
    "feats_pd.hist('avg_session_gap', bins=50);"
   ]
  },
  {
   "cell_type": "code",
   "execution_count": 43,
   "metadata": {},
   "outputs": [],
   "source": [
    "# Replace missing values in avg_gap_session by 0\n",
    "\n",
    "all_features = all_features.fillna(0, subset=['avg_session_gap'])"
   ]
  },
  {
   "cell_type": "code",
   "execution_count": 44,
   "metadata": {},
   "outputs": [],
   "source": [
    "missing = all_features.select([F.count(F.when(\n",
    "    (F.col(c) == '')  | F.col(c).isNull() | F.isnan(c), c)) \\\n",
    "    .alias(c) for c in all_features.columns])"
   ]
  },
  {
   "cell_type": "code",
   "execution_count": 45,
   "metadata": {
    "scrolled": true
   },
   "outputs": [
    {
     "data": {
      "text/plain": [
       "[Row(userId=0, gender=0, prop_activity=1, once_paid=0, once_free=0, avg_downgrad=0, avg_upgrad=0, avg_positive=0, avg_negative=0, NextSong=0, avg_sessions=0, avg_items_session=0, avg_session_gap=0)]"
      ]
     },
     "execution_count": 45,
     "metadata": {},
     "output_type": "execute_result"
    }
   ],
   "source": [
    "missing.collect()"
   ]
  },
  {
   "cell_type": "code",
   "execution_count": null,
   "metadata": {},
   "outputs": [],
   "source": []
  },
  {
   "cell_type": "markdown",
   "metadata": {},
   "source": [
    "## Modeling"
   ]
  },
  {
   "cell_type": "code",
   "execution_count": 5,
   "metadata": {},
   "outputs": [],
   "source": [
    "from pyspark.ml import Pipeline\n",
    "from pyspark.ml.feature import VectorAssembler, StandardScaler, Normalizer, MinMaxScaler\n",
    "from pyspark.ml.tuning import CrossValidator\n",
    "from pyspark.ml.classification import LogisticRegression, LinearSVC, DecisionTreeClassifier\n",
    "from pyspark.ml.classification import RandomForestClassifier, GBTClassifier\n",
    "from pyspark.ml.evaluation import  MulticlassClassificationEvaluator, BinaryClassificationEvaluator\n",
    "from pyspark.mllib.evaluation import MulticlassMetrics\n",
    "from pyspark.ml.tuning import CrossValidator, ParamGridBuilder"
   ]
  },
  {
   "cell_type": "code",
   "execution_count": 6,
   "metadata": {},
   "outputs": [],
   "source": [
    "def extract_label(df):\n",
    "    \"\"\" INPUTS: \n",
    "    - df: cleaned dataframe.\n",
    "    - page: page value from which to extract label. \"\"\"\n",
    "    \n",
    "    # Flag Churn. is_churning is 1 when the user was in the specified page\n",
    "    flag_churn = F.udf(lambda p: int(p == \"Cancellation Confirmation\"), IntegerType())\n",
    "    label_df = df.withColumn('is_churning', flag_churn(df.page))\n",
    "\n",
    "    label_df = label_df.groupby('userId').agg(F.sum('is_churning').alias('label'))\n",
    "    \n",
    "    return label_df"
   ]
  },
  {
   "cell_type": "code",
   "execution_count": 7,
   "metadata": {},
   "outputs": [],
   "source": [
    "def extract_features(df):\n",
    "    \"\"\" \n",
    "    INPUT: cleaned dataframe. \n",
    "    OUTPUT: dataframe with Engineered Features.\n",
    "    \n",
    "    obs: daily average considers only active days, i.e. days in which the user has had \n",
    "         at least one event.\n",
    "    \n",
    "    These are the features per user:\n",
    "    \n",
    "    - gender: 1 if female, 0 if male\n",
    "    - prop_activity: proportion of active days over total days in platform (from \n",
    "                     registration to last interaction)\n",
    "    - once_paid and once_free - 1 if the user has been a paid or a free respectively\n",
    "    - avg_downgrad and avg_upgrad - daily average of downgrades and upgrades respectively.\n",
    "    - avg_positive and avg_negative - daily average of positive and negative interactions \n",
    "                                      respectively. \n",
    "    - avg_session: daily average of distinct sessions\n",
    "    - avg_items_sessions: average items per session \n",
    "    - avg_session_gap: average gap between sessions\n",
    "    \n",
    "    \"\"\"\n",
    "    \n",
    "    ### gender\n",
    "    gender_df = df.select(['userId', 'gender']).dropDuplicates()\n",
    "    gender_df = gender_df.withColumn(\"gender\", F.when(df[\"gender\"] == 'F', 1).otherwise(0))\n",
    "    \n",
    "    ### prop_activity \n",
    "    total_days = df.groupby('userId').agg(F.max('days_since_registration') \\\n",
    "                                          .alias('total_days'))\n",
    "    active_days = df.groupby('userId').agg(F.countDistinct('date').alias('active_days'))\n",
    "    \n",
    "    avg_activity = total_days.join(active_days, on='userId').withColumn('prop_activity',\n",
    "                                             F.col('active_days')/F.col('total_days'))\\\n",
    "                                             .drop(*['active_days', 'total_days'])\n",
    "    \n",
    "    ### once_paid and once_free\n",
    "    # flag once_paid and once_free\n",
    "    flag_paid = F.udf(lambda l: int(l == 'paid'), IntegerType())\n",
    "    flag_free = F.udf(lambda l: int(l == 'free'), IntegerType())\n",
    "\n",
    "    # is_paid is 1 whenever the user was in level == paid (same logic for is_free)\n",
    "    once_level = df.withColumn('is_paid', flag_paid(df.level))\n",
    "    once_level = once_level.withColumn('is_free', flag_free(df.level))\n",
    "\n",
    "    once_level = once_level.groupby('userId').agg(F.max('is_paid').alias('once_paid'),\n",
    "                                                  F.max('is_free').alias('once_free'))\n",
    "        \n",
    "    ### avg_downgrad\n",
    "    user_window = Window.partitionBy('userId').orderBy(F.desc('ts')) \\\n",
    "                        .rangeBetween(Window.unboundedPreceding, 0)\n",
    "    \n",
    "    flag_downgrade = F.udf(lambda p: int(p == 'Submit Downgrade'), IntegerType())\n",
    "    downgrad_df = df.withColumn('is_downgrading', flag_downgrade('page'))\n",
    "    downgrad_df = downgrad_df.withColumn('down_phase', F.sum('is_downgrading') \\\n",
    "                                         .over(user_window))\n",
    "    downgrad_df = downgrad_df.groupBy('userId').agg(F.max('down_phase') \\\n",
    "                                                    .alias('n_downgraded'))   \n",
    "    \n",
    "    active_days = df.groupby('userId').agg(F.countDistinct('date')\\\n",
    "                                        .alias('active_days'))\n",
    "    avg_downgrad = downgrad_df.join(active_days, on='userId').withColumn(\n",
    "                            'avg_downgrad', F.col('n_downgraded')/F.col('active_days'))\\\n",
    "                            .drop(*['n_downgraded', 'active_days'])\n",
    "    \n",
    "    ### avg_upgrad\n",
    "    w = Window().partitionBy(\"userId\").orderBy(F.asc(\"ts\")) \n",
    "    upgrad_df = df.withColumn(\"first_level\", F.when(F.row_number().over(w) == 1, \n",
    "                                                    F.col('level')))\n",
    "    flag_upgrade = F.udf(lambda p, fl: int((p== 'Submit Upgrade') | (fl== 'paid')), \n",
    "                     IntegerType())\n",
    "    upgrad_df = upgrad_df.withColumn('is_upgrading', \n",
    "                                     flag_upgrade(upgrad_df.page, upgrad_df.first_level))\n",
    "    \n",
    "    upgrad_df = upgrad_df.withColumn('up_phase', F.sum('is_upgrading').over(user_window))\n",
    "    upgrad_df = upgrad_df.groupBy('userId').agg(F.max('up_phase').alias('n_upgraded'))\n",
    "    \n",
    "    avg_upgrad = upgrad_df.join(active_days, on='userId').withColumn(\n",
    "                                'avg_upgrad', F.col('n_upgraded')/F.col('active_days'))\\\n",
    "                                .drop(*['n_upgraded', 'active_days'])\n",
    "    \n",
    "    ### avg_positive and avg_negative\n",
    "    dfr = df.filter((df.page!= 'Cancel') & (df.page != 'Cancellation Confirmation'))\n",
    "    page_counts = dfr.groupby(['userId', 'page']).agg((F.count('page')).alias('Count')) \\\n",
    "                     .groupby('userId').pivot('page').sum('Count').fillna(0)\n",
    "\n",
    "    page_counts = page_counts.withColumn('positive_interact', \n",
    "                        F.col('Add Friend')+ F.col('Add to Playlist')+ F.col('Thumbs Up'))\n",
    "    page_counts = page_counts.withColumn('negative_interact', \n",
    "                        F.col('Thumbs Down')+ F.col('Error')+ F.col('Roll Advert'))\n",
    "\n",
    "    cols_to_drop = page_counts.columns[1:-2]\n",
    "    page_counts_red = page_counts.drop(*cols_to_drop)\n",
    "    \n",
    "    joined = page_counts_red.join(active_days, on='userId')\n",
    "    avg_types = joined.withColumn('avg_positive', \n",
    "                                  F.col('positive_interact')/F.col('active_days')) \\\n",
    "                                  .drop('positive_interact')\n",
    "    avg_types = avg_types.withColumn('avg_negative', \n",
    "                                     F.col('negative_interact')/F.col('active_days')) \\\n",
    "                                     .drop(*['negative_interact', 'active_days'])\n",
    "    \n",
    "    ### avg_sessions\n",
    "    avg_sessions = df.groupby('userId','date').agg(F.countDistinct('sessionId') \\\n",
    "                                                  .alias('sessions_per_day')) \\\n",
    "                     .groupBy('userId').agg(F.avg('sessions_per_day') \\\n",
    "                                       .alias('avg_sessions'))\n",
    "    ### avg_items\n",
    "    avg_items = df.groupby(['userId', 'sessionId']).agg(F.max('itemInSession') \\\n",
    "                                                        .alias('n_items_session')) \\\n",
    "                  .groupby('userId').agg(F.avg('n_items_session')\n",
    "                                         .alias('avg_items_session'))\n",
    "    \n",
    "    ### avg_session_gap\n",
    "    session_marks_df = df.groupby('userId','sessionId').agg(\n",
    "                                                        F.min('ts').alias('begin_ts'),\n",
    "                                                        F.max('ts').alias('end_ts'))\n",
    "    w = Window.partitionBy('userID').orderBy('begin_ts')\n",
    "    session_marks_df = session_marks_df.withColumn('last_end', F.lag(F.col('end_ts')) \\\n",
    "                                                   .over(w))\n",
    "\n",
    "    session_marks_df = session_marks_df.withColumn('session_gap', \n",
    "                                                   (F.col('begin_ts') - F.col('last_end')))\n",
    "\n",
    "    avg_session_gap = session_marks_df.groupby('userId').agg(\n",
    "                                (F.avg('session_gap')/86400000).alias('avg_session_gap'))\n",
    "    \n",
    "    ### joining all together\n",
    "\n",
    "    all_features = gender_df \\\n",
    "                        .join(avg_activity, on='userId')\\\n",
    "                        .join(once_level, on='userId')\\\n",
    "                        .join(avg_downgrad, on='userId')\\\n",
    "                        .join(avg_upgrad, on='userId')\\\n",
    "                        .join(avg_types, on='userId')\\\n",
    "                        .join(avg_sessions, on='userId')\\\n",
    "                        .join(avg_items, on='userId')\\\n",
    "                        .join(avg_session_gap, on='userId')\n",
    "\n",
    "    \n",
    "    # fill missing values\n",
    "    all_features = all_features.fillna(0, subset=['avg_session_gap'])\n",
    "    \n",
    "    return all_features\n",
    "    "
   ]
  },
  {
   "cell_type": "code",
   "execution_count": 8,
   "metadata": {},
   "outputs": [],
   "source": [
    "def get_data_ready(path= \"mini_sparkify_event_data.json\"):\n",
    "    \"\"\" INPUT: path with raw data.\n",
    "        OUTPUT: data ready for modeling pipeline. \"\"\"\n",
    "    \n",
    "    clean_df = load_and_clean(path)\n",
    "    features = extract_features(clean_df)\n",
    "    label = extract_label(clean_df)\n",
    "    \n",
    "    data = features.join(label, on='userId')\n",
    "    data = data.drop('userId')\n",
    "    \n",
    "    return data"
   ]
  },
  {
   "cell_type": "code",
   "execution_count": 9,
   "metadata": {},
   "outputs": [],
   "source": [
    "data = get_data_ready()"
   ]
  },
  {
   "cell_type": "code",
   "execution_count": 68,
   "metadata": {},
   "outputs": [
    {
     "data": {
      "text/plain": [
       "(225, 11)"
      ]
     },
     "execution_count": 68,
     "metadata": {},
     "output_type": "execute_result"
    }
   ],
   "source": [
    "data.count(), len(data.columns)"
   ]
  },
  {
   "cell_type": "code",
   "execution_count": 10,
   "metadata": {},
   "outputs": [],
   "source": [
    "train, valid, test = data.randomSplit([0.75, 0.2, 0.15], seed=42)"
   ]
  },
  {
   "cell_type": "markdown",
   "metadata": {},
   "source": [
    "We will try three models, using their defaults first: \n",
    "- Logistic Regression\n",
    "- Random Forest\n",
    "- Gradient Boosting"
   ]
  },
  {
   "cell_type": "code",
   "execution_count": 12,
   "metadata": {},
   "outputs": [],
   "source": [
    "def build_pipeline(data, model):\n",
    "        \n",
    "    numCols = data.drop('label').columns\n",
    "    assembler = VectorAssembler(inputCols= numCols, outputCol='NumFeatures', \n",
    "                                handleInvalid='skip')\n",
    "    \n",
    "    scaler = StandardScaler(inputCol=\"NumFeatures\", outputCol=\"features\", \n",
    "                                withMean=True, withStd=True)\n",
    "\n",
    "    pipeline = Pipeline(stages=[assembler, scaler, model])\n",
    "    \n",
    "    return pipeline"
   ]
  },
  {
   "cell_type": "code",
   "execution_count": 13,
   "metadata": {},
   "outputs": [],
   "source": [
    "def evaluate_pipeline(data, pipeline):\n",
    "    \"\"\" Splits data, fits pipeline on train set and evaluates on valid set\"\"\"\n",
    "    \n",
    "    # Split\n",
    "    train, valid, test = data.randomSplit([0.75, 0.2, 0.15], seed=42)\n",
    "    \n",
    "    # Train time\n",
    "    t1 = time()\n",
    "    fit_pipe = pipeline.fit(train)\n",
    "    t2 = time()\n",
    "    \n",
    "    train_time = (t2-t1)/60\n",
    "    \n",
    "    train_results = fit_pipe.transform(train)\n",
    "    valid_results = fit_pipe.transform(valid)\n",
    "    \n",
    "    \n",
    "    # Metrics\n",
    "    train_f1 = MulticlassClassificationEvaluator(metricName='f1').evaluate(train_results)\n",
    "    valid_f1 = MulticlassClassificationEvaluator(metricName='f1').evaluate(valid_results)\n",
    "    \n",
    "    train_acc = MulticlassClassificationEvaluator(metricName='accuracy') \\\n",
    "                                                .evaluate(train_results)\n",
    "    valid_acc = MulticlassClassificationEvaluator(metricName='accuracy') \\\n",
    "                                                .evaluate(valid_results)\n",
    "    \n",
    "    metrics = [round(m, 3) for m in [train_f1, valid_f1, train_acc, valid_acc, train_time]]\n",
    "        \n",
    "    \n",
    "    print('F1 score on TRAIN set:', metrics[0], '|', 'F1 score on VALID set:', metrics[1])\n",
    "    \n",
    "    return metrics"
   ]
  },
  {
   "cell_type": "code",
   "execution_count": 12,
   "metadata": {},
   "outputs": [],
   "source": [
    "default_models = [LogisticRegression(), RandomForestClassifier(seed=42),\n",
    "                 GBTClassifier(seed=42)]"
   ]
  },
  {
   "cell_type": "code",
   "execution_count": 28,
   "metadata": {},
   "outputs": [
    {
     "name": "stdout",
     "output_type": "stream",
     "text": [
      "Evaluating model LogisticRegression_50642371b443\n",
      "F1 score on TRAIN set: 0.81 | F1 score on VALID set: 0.63\n",
      "Evaluating model RandomForestClassifier_6067c8510188\n",
      "F1 score on TRAIN set: 0.98 | F1 score on VALID set: 0.65\n",
      "Evaluating model GBTClassifier_aa2383ff4bad\n",
      "F1 score on TRAIN set: 1.0 | F1 score on VALID set: 0.65\n"
     ]
    }
   ],
   "source": [
    "results = {}\n",
    "\n",
    "for i, model in enumerate(default_models):\n",
    "    pipeline = build_pipeline(data, model)\n",
    "    \n",
    "    print('Evaluating model', model)\n",
    "    results[str(i)] = evaluate_pipeline(data, pipeline)"
   ]
  },
  {
   "cell_type": "code",
   "execution_count": 29,
   "metadata": {},
   "outputs": [
    {
     "data": {
      "text/html": [
       "<div>\n",
       "<style scoped>\n",
       "    .dataframe tbody tr th:only-of-type {\n",
       "        vertical-align: middle;\n",
       "    }\n",
       "\n",
       "    .dataframe tbody tr th {\n",
       "        vertical-align: top;\n",
       "    }\n",
       "\n",
       "    .dataframe thead th {\n",
       "        text-align: right;\n",
       "    }\n",
       "</style>\n",
       "<table border=\"1\" class=\"dataframe\">\n",
       "  <thead>\n",
       "    <tr style=\"text-align: right;\">\n",
       "      <th></th>\n",
       "      <th>0</th>\n",
       "      <th>1</th>\n",
       "      <th>2</th>\n",
       "    </tr>\n",
       "  </thead>\n",
       "  <tbody>\n",
       "    <tr>\n",
       "      <th>train_f1</th>\n",
       "      <td>0.81</td>\n",
       "      <td>0.98</td>\n",
       "      <td>1.00</td>\n",
       "    </tr>\n",
       "    <tr>\n",
       "      <th>valid_f1</th>\n",
       "      <td>0.63</td>\n",
       "      <td>0.65</td>\n",
       "      <td>0.65</td>\n",
       "    </tr>\n",
       "    <tr>\n",
       "      <th>train_acc</th>\n",
       "      <td>0.84</td>\n",
       "      <td>0.98</td>\n",
       "      <td>1.00</td>\n",
       "    </tr>\n",
       "    <tr>\n",
       "      <th>valid_acc</th>\n",
       "      <td>0.70</td>\n",
       "      <td>0.70</td>\n",
       "      <td>0.66</td>\n",
       "    </tr>\n",
       "    <tr>\n",
       "      <th>train_aur</th>\n",
       "      <td>0.86</td>\n",
       "      <td>1.00</td>\n",
       "      <td>1.00</td>\n",
       "    </tr>\n",
       "    <tr>\n",
       "      <th>valid_aur</th>\n",
       "      <td>0.69</td>\n",
       "      <td>0.72</td>\n",
       "      <td>0.68</td>\n",
       "    </tr>\n",
       "    <tr>\n",
       "      <th>train_time</th>\n",
       "      <td>3.90</td>\n",
       "      <td>4.27</td>\n",
       "      <td>8.79</td>\n",
       "    </tr>\n",
       "  </tbody>\n",
       "</table>\n",
       "</div>"
      ],
      "text/plain": [
       "               0     1     2\n",
       "train_f1    0.81  0.98  1.00\n",
       "valid_f1    0.63  0.65  0.65\n",
       "train_acc   0.84  0.98  1.00\n",
       "valid_acc   0.70  0.70  0.66\n",
       "train_aur   0.86  1.00  1.00\n",
       "valid_aur   0.69  0.72  0.68\n",
       "train_time  3.90  4.27  8.79"
      ]
     },
     "execution_count": 29,
     "metadata": {},
     "output_type": "execute_result"
    }
   ],
   "source": [
    "pd.DataFrame(results).rename(columns={0: 'LR', 1: 'RF', 2:'GBT'}, \n",
    "                             index={0: 'train_f1', 1:'valid_f1', \n",
    "                                    2:'train_acc', 3:'valid_acc', 4:'train_time'})"
   ]
  },
  {
   "cell_type": "markdown",
   "metadata": {},
   "source": [
    "All models seem to be overfitting with default parameters, so we will perform a bit of tuning for all of them to recognize the one with the best metrics for our problem"
   ]
  },
  {
   "cell_type": "markdown",
   "metadata": {},
   "source": [
    "### Fine-tuning"
   ]
  },
  {
   "cell_type": "markdown",
   "metadata": {},
   "source": [
    "We will use F1 as the metric for tuning, since we have an imbalanced dataset and accuracy is a poor measure for that case."
   ]
  },
  {
   "cell_type": "code",
   "execution_count": 77,
   "metadata": {},
   "outputs": [],
   "source": [
    "def grid_search(data, model, paramGrid, kFolds=2):\n",
    "    \"\"\" Performs crossvalidation with provided model and paramGrid. \n",
    "    \n",
    "    Returns: \n",
    "    - F1 score for train set, F1 score for valid set and train time,\n",
    "    - Best parameters found for the model\n",
    "    - Fitted crossvalidation object for further exploration \"\"\"\n",
    "    \n",
    "    # Split\n",
    "    train, valid, test = data.randomSplit([0.75, 0.2, 0.15], seed=42)\n",
    "    \n",
    "    # pipeline\n",
    "    pipeline = build_pipeline(data, model)\n",
    "    \n",
    "    # grid search\n",
    "    crossval = CrossValidator(estimator= pipeline,\n",
    "                          estimatorParamMaps= paramGrid,\n",
    "                          evaluator= MulticlassClassificationEvaluator(),\n",
    "                          numFolds= kFolds)\n",
    "    \n",
    "    t1 = time()\n",
    "    fitCV = crossval.fit(train)\n",
    "    t2 = time()\n",
    "    \n",
    "    train_time = round((t2-t1)/60, 2)\n",
    "    \n",
    "    train_f1 = MulticlassClassificationEvaluator().evaluate(fitCV.transform(train))\n",
    "    valid_f1 = MulticlassClassificationEvaluator().evaluate(fitCV.transform(valid))\n",
    "    \n",
    "    best_params = fitCV.bestModel.stages[2].extractParamMap()\n",
    "    \n",
    "       \n",
    "    return train_f1, valid_f1, train_time, best_params, fitCV"
   ]
  },
  {
   "cell_type": "markdown",
   "metadata": {},
   "source": [
    "**Logistic Regression**\n",
    "- defaults: maxIter= 100, regParam= 0.0\n",
    "- best params: maxIter= 3, regParam= 0.02"
   ]
  },
  {
   "cell_type": "code",
   "execution_count": 78,
   "metadata": {},
   "outputs": [],
   "source": [
    "model = LogisticRegression()\n",
    "\n",
    "paramGrid = ParamGridBuilder()\\\n",
    "    .addGrid(model.maxIter, [3, 5, 10]) \\\n",
    "    .addGrid(model.regParam, [0.0, 0.01, 0.02]) \\\n",
    "    .build()\n",
    "\n",
    "train_f1, valid_f1, train_time, best_params, fitCV = grid_search(data, model, paramGrid,\n",
    "                                                                kFolds=3)"
   ]
  },
  {
   "cell_type": "code",
   "execution_count": 79,
   "metadata": {},
   "outputs": [
    {
     "data": {
      "text/plain": [
       "(0.7549728752260398, 0.6318445431949988)"
      ]
     },
     "execution_count": 79,
     "metadata": {},
     "output_type": "execute_result"
    }
   ],
   "source": [
    "train_f1, valid_f1"
   ]
  },
  {
   "cell_type": "code",
   "execution_count": 81,
   "metadata": {
    "collapsed": true
   },
   "outputs": [
    {
     "data": {
      "text/plain": [
       "{Param(parent='LogisticRegression_e664af7201d6', name='aggregationDepth', doc='suggested depth for treeAggregate (>= 2)'): 2,\n",
       " Param(parent='LogisticRegression_e664af7201d6', name='elasticNetParam', doc='the ElasticNet mixing parameter, in range [0, 1]. For alpha = 0, the penalty is an L2 penalty. For alpha = 1, it is an L1 penalty'): 0.0,\n",
       " Param(parent='LogisticRegression_e664af7201d6', name='family', doc='The name of family which is a description of the label distribution to be used in the model. Supported options: auto, binomial, multinomial.'): 'auto',\n",
       " Param(parent='LogisticRegression_e664af7201d6', name='featuresCol', doc='features column name'): 'features',\n",
       " Param(parent='LogisticRegression_e664af7201d6', name='fitIntercept', doc='whether to fit an intercept term'): True,\n",
       " Param(parent='LogisticRegression_e664af7201d6', name='labelCol', doc='label column name'): 'label',\n",
       " Param(parent='LogisticRegression_e664af7201d6', name='maxIter', doc='maximum number of iterations (>= 0)'): 3,\n",
       " Param(parent='LogisticRegression_e664af7201d6', name='predictionCol', doc='prediction column name'): 'prediction',\n",
       " Param(parent='LogisticRegression_e664af7201d6', name='probabilityCol', doc='Column name for predicted class conditional probabilities. Note: Not all models output well-calibrated probability estimates! These probabilities should be treated as confidences, not precise probabilities'): 'probability',\n",
       " Param(parent='LogisticRegression_e664af7201d6', name='rawPredictionCol', doc='raw prediction (a.k.a. confidence) column name'): 'rawPrediction',\n",
       " Param(parent='LogisticRegression_e664af7201d6', name='regParam', doc='regularization parameter (>= 0)'): 0.02,\n",
       " Param(parent='LogisticRegression_e664af7201d6', name='standardization', doc='whether to standardize the training features before fitting the model'): True,\n",
       " Param(parent='LogisticRegression_e664af7201d6', name='threshold', doc='threshold in binary classification prediction, in range [0, 1]'): 0.5,\n",
       " Param(parent='LogisticRegression_e664af7201d6', name='tol', doc='the convergence tolerance for iterative algorithms (>= 0)'): 1e-06}"
      ]
     },
     "execution_count": 81,
     "metadata": {},
     "output_type": "execute_result"
    }
   ],
   "source": [
    "# maxIter= 3, regParam= 0.02\n",
    "best_params"
   ]
  },
  {
   "cell_type": "code",
   "execution_count": null,
   "metadata": {},
   "outputs": [],
   "source": []
  },
  {
   "cell_type": "markdown",
   "metadata": {},
   "source": [
    "**Random Forest**\n",
    "- dafaults: numTrees= 20, maxDepth= 5\n",
    "- best params: numTrees= 70, maxDepth= 6"
   ]
  },
  {
   "cell_type": "code",
   "execution_count": 83,
   "metadata": {},
   "outputs": [
    {
     "data": {
      "text/plain": [
       "(0.9871725897428089, 0.6709956709956709)"
      ]
     },
     "execution_count": 83,
     "metadata": {},
     "output_type": "execute_result"
    }
   ],
   "source": [
    "model = RandomForestClassifier(seed=42)\n",
    "\n",
    "paramGrid = ParamGridBuilder()\\\n",
    "    .addGrid(model.numTrees, [50, 60, 65, 70, 75]) \\\n",
    "    .addGrid(model.maxDepth, [4, 5, 6, 7, 8]) \\\n",
    "    .build()\n",
    "\n",
    "train_f1, valid_f1, train_time, best_params, fitCV = grid_search(data, model, paramGrid)\n",
    "train_f1, valid_f1"
   ]
  },
  {
   "cell_type": "code",
   "execution_count": 85,
   "metadata": {
    "collapsed": true
   },
   "outputs": [
    {
     "data": {
      "text/plain": [
       "{Param(parent='RandomForestClassifier_3d2ee91c375a', name='cacheNodeIds', doc='If false, the algorithm will pass trees to executors to match instances with nodes. If true, the algorithm will cache node IDs for each instance. Caching can speed up training of deeper trees.'): False,\n",
       " Param(parent='RandomForestClassifier_3d2ee91c375a', name='checkpointInterval', doc='set checkpoint interval (>= 1) or disable checkpoint (-1). E.g. 10 means that the cache will get checkpointed every 10 iterations. Note: this setting will be ignored if the checkpoint directory is not set in the SparkContext'): 10,\n",
       " Param(parent='RandomForestClassifier_3d2ee91c375a', name='featureSubsetStrategy', doc='The number of features to consider for splits at each tree node. Supported options: auto, all, onethird, sqrt, log2, (0.0-1.0], [1-n].'): 'auto',\n",
       " Param(parent='RandomForestClassifier_3d2ee91c375a', name='featuresCol', doc='features column name'): 'features',\n",
       " Param(parent='RandomForestClassifier_3d2ee91c375a', name='impurity', doc='Criterion used for information gain calculation (case-insensitive). Supported options: entropy, gini'): 'gini',\n",
       " Param(parent='RandomForestClassifier_3d2ee91c375a', name='labelCol', doc='label column name'): 'label',\n",
       " Param(parent='RandomForestClassifier_3d2ee91c375a', name='maxBins', doc='Max number of bins for discretizing continuous features.  Must be >=2 and >= number of categories for any categorical feature.'): 32,\n",
       " Param(parent='RandomForestClassifier_3d2ee91c375a', name='maxDepth', doc='Maximum depth of the tree. (>= 0) E.g., depth 0 means 1 leaf node; depth 1 means 1 internal node + 2 leaf nodes.'): 6,\n",
       " Param(parent='RandomForestClassifier_3d2ee91c375a', name='maxMemoryInMB', doc='Maximum memory in MB allocated to histogram aggregation.'): 256,\n",
       " Param(parent='RandomForestClassifier_3d2ee91c375a', name='minInfoGain', doc='Minimum information gain for a split to be considered at a tree node.'): 0.0,\n",
       " Param(parent='RandomForestClassifier_3d2ee91c375a', name='minInstancesPerNode', doc='Minimum number of instances each child must have after split.  If a split causes the left or right child to have fewer than minInstancesPerNode, the split will be discarded as invalid. Should be >= 1.'): 1,\n",
       " Param(parent='RandomForestClassifier_3d2ee91c375a', name='numTrees', doc='Number of trees to train (>= 1)'): 70,\n",
       " Param(parent='RandomForestClassifier_3d2ee91c375a', name='predictionCol', doc='prediction column name'): 'prediction',\n",
       " Param(parent='RandomForestClassifier_3d2ee91c375a', name='probabilityCol', doc='Column name for predicted class conditional probabilities. Note: Not all models output well-calibrated probability estimates! These probabilities should be treated as confidences, not precise probabilities'): 'probability',\n",
       " Param(parent='RandomForestClassifier_3d2ee91c375a', name='rawPredictionCol', doc='raw prediction (a.k.a. confidence) column name'): 'rawPrediction',\n",
       " Param(parent='RandomForestClassifier_3d2ee91c375a', name='seed', doc='random seed'): 42,\n",
       " Param(parent='RandomForestClassifier_3d2ee91c375a', name='subsamplingRate', doc='Fraction of the training data used for learning each decision tree, in range (0, 1].'): 1.0}"
      ]
     },
     "execution_count": 85,
     "metadata": {},
     "output_type": "execute_result"
    }
   ],
   "source": [
    "# numTrees= 70, maxDepth= 6\n",
    "best_params"
   ]
  },
  {
   "cell_type": "code",
   "execution_count": null,
   "metadata": {},
   "outputs": [],
   "source": []
  },
  {
   "cell_type": "markdown",
   "metadata": {},
   "source": [
    "**GBTClassifier**\n",
    "- defaults: maxIter= 20, maxDepth= 5\n",
    "- best params: maxIter= 6, maxDepth= 2"
   ]
  },
  {
   "cell_type": "code",
   "execution_count": 96,
   "metadata": {},
   "outputs": [],
   "source": [
    "# ultima GBT\n",
    "\n",
    "model = GBTClassifier(seed=42)\n",
    "\n",
    "paramGrid = ParamGridBuilder()\\\n",
    "    .addGrid(model.maxIter, [4, 5, 6, 7, 8]) \\\n",
    "    .addGrid(model.maxDepth,[1, 2, 3]) \\\n",
    "    .build()\n",
    "\n",
    "train_f1, valid_f1, train_time, best_params, fitCV = grid_search(data, model, paramGrid)"
   ]
  },
  {
   "cell_type": "code",
   "execution_count": 97,
   "metadata": {},
   "outputs": [
    {
     "data": {
      "text/plain": [
       "(0.8716932672904054, 0.6709956709956709)"
      ]
     },
     "execution_count": 97,
     "metadata": {},
     "output_type": "execute_result"
    }
   ],
   "source": [
    "train_f1, valid_f1"
   ]
  },
  {
   "cell_type": "code",
   "execution_count": 98,
   "metadata": {
    "collapsed": true
   },
   "outputs": [
    {
     "data": {
      "text/plain": [
       "{Param(parent='GBTClassifier_346a0c833970', name='cacheNodeIds', doc='If false, the algorithm will pass trees to executors to match instances with nodes. If true, the algorithm will cache node IDs for each instance. Caching can speed up training of deeper trees.'): False,\n",
       " Param(parent='GBTClassifier_346a0c833970', name='checkpointInterval', doc='set checkpoint interval (>= 1) or disable checkpoint (-1). E.g. 10 means that the cache will get checkpointed every 10 iterations. Note: this setting will be ignored if the checkpoint directory is not set in the SparkContext'): 10,\n",
       " Param(parent='GBTClassifier_346a0c833970', name='featureSubsetStrategy', doc='The number of features to consider for splits at each tree node. Supported options: auto, all, onethird, sqrt, log2, (0.0-1.0], [1-n].'): 'all',\n",
       " Param(parent='GBTClassifier_346a0c833970', name='featuresCol', doc='features column name'): 'features',\n",
       " Param(parent='GBTClassifier_346a0c833970', name='labelCol', doc='label column name'): 'label',\n",
       " Param(parent='GBTClassifier_346a0c833970', name='lossType', doc='Loss function which GBT tries to minimize (case-insensitive). Supported options: logistic'): 'logistic',\n",
       " Param(parent='GBTClassifier_346a0c833970', name='maxBins', doc='Max number of bins for discretizing continuous features.  Must be >=2 and >= number of categories for any categorical feature.'): 32,\n",
       " Param(parent='GBTClassifier_346a0c833970', name='maxDepth', doc='Maximum depth of the tree. (>= 0) E.g., depth 0 means 1 leaf node; depth 1 means 1 internal node + 2 leaf nodes.'): 2,\n",
       " Param(parent='GBTClassifier_346a0c833970', name='maxIter', doc='maximum number of iterations (>= 0)'): 6,\n",
       " Param(parent='GBTClassifier_346a0c833970', name='maxMemoryInMB', doc='Maximum memory in MB allocated to histogram aggregation.'): 256,\n",
       " Param(parent='GBTClassifier_346a0c833970', name='minInfoGain', doc='Minimum information gain for a split to be considered at a tree node.'): 0.0,\n",
       " Param(parent='GBTClassifier_346a0c833970', name='minInstancesPerNode', doc='Minimum number of instances each child must have after split.  If a split causes the left or right child to have fewer than minInstancesPerNode, the split will be discarded as invalid. Should be >= 1.'): 1,\n",
       " Param(parent='GBTClassifier_346a0c833970', name='predictionCol', doc='prediction column name'): 'prediction',\n",
       " Param(parent='GBTClassifier_346a0c833970', name='seed', doc='random seed'): 42,\n",
       " Param(parent='GBTClassifier_346a0c833970', name='stepSize', doc='Step size (a.k.a. learning rate) in interval (0, 1] for shrinking the contribution of each estimator.'): 0.1,\n",
       " Param(parent='GBTClassifier_346a0c833970', name='subsamplingRate', doc='Fraction of the training data used for learning each decision tree, in range (0, 1].'): 1.0}"
      ]
     },
     "execution_count": 98,
     "metadata": {},
     "output_type": "execute_result"
    }
   ],
   "source": [
    "# maxIter= 6, maxDepth= 2 \n",
    "best_params"
   ]
  },
  {
   "cell_type": "code",
   "execution_count": null,
   "metadata": {},
   "outputs": [],
   "source": []
  },
  {
   "cell_type": "markdown",
   "metadata": {},
   "source": [
    "### Results"
   ]
  },
  {
   "cell_type": "markdown",
   "metadata": {},
   "source": [
    "Let's compare the best versions of each model."
   ]
  },
  {
   "cell_type": "code",
   "execution_count": 11,
   "metadata": {},
   "outputs": [],
   "source": [
    "tuned_models = [LogisticRegression(maxIter= 3, regParam= 0.02), \n",
    "                RandomForestClassifier(seed=42, numTrees= 70, maxDepth= 6),\n",
    "                GBTClassifier(seed=42, maxIter= 6, maxDepth= 2)]"
   ]
  },
  {
   "cell_type": "code",
   "execution_count": 14,
   "metadata": {},
   "outputs": [
    {
     "name": "stdout",
     "output_type": "stream",
     "text": [
      "Evaluating model LogisticRegression_587bf53c0761\n",
      "F1 score on TRAIN set: 0.755 | F1 score on VALID set: 0.632\n",
      "Evaluating model RandomForestClassifier_9d47b977887b\n",
      "F1 score on TRAIN set: 0.987 | F1 score on VALID set: 0.671\n",
      "Evaluating model GBTClassifier_8c26c0e5ab1f\n",
      "F1 score on TRAIN set: 0.872 | F1 score on VALID set: 0.671\n"
     ]
    }
   ],
   "source": [
    "results_tuned = {}\n",
    "\n",
    "for i, model in enumerate(tuned_models):\n",
    "    pipeline = build_pipeline(data, model)\n",
    "    \n",
    "    print('Evaluating model', model)\n",
    "    results_tuned[str(i)] = evaluate_pipeline(data, pipeline)"
   ]
  },
  {
   "cell_type": "code",
   "execution_count": 20,
   "metadata": {},
   "outputs": [
    {
     "data": {
      "text/html": [
       "<div>\n",
       "<style scoped>\n",
       "    .dataframe tbody tr th:only-of-type {\n",
       "        vertical-align: middle;\n",
       "    }\n",
       "\n",
       "    .dataframe tbody tr th {\n",
       "        vertical-align: top;\n",
       "    }\n",
       "\n",
       "    .dataframe thead th {\n",
       "        text-align: right;\n",
       "    }\n",
       "</style>\n",
       "<table border=\"1\" class=\"dataframe\">\n",
       "  <thead>\n",
       "    <tr style=\"text-align: right;\">\n",
       "      <th></th>\n",
       "      <th>Logistic Regression</th>\n",
       "      <th>Random Forest</th>\n",
       "      <th>Gradient Boosting</th>\n",
       "    </tr>\n",
       "  </thead>\n",
       "  <tbody>\n",
       "    <tr>\n",
       "      <th>train_f1</th>\n",
       "      <td>0.755</td>\n",
       "      <td>0.987</td>\n",
       "      <td>0.872</td>\n",
       "    </tr>\n",
       "    <tr>\n",
       "      <th>valid_f1</th>\n",
       "      <td>0.632</td>\n",
       "      <td>0.671</td>\n",
       "      <td>0.671</td>\n",
       "    </tr>\n",
       "    <tr>\n",
       "      <th>train_acc</th>\n",
       "      <td>0.810</td>\n",
       "      <td>0.987</td>\n",
       "      <td>0.886</td>\n",
       "    </tr>\n",
       "    <tr>\n",
       "      <th>valid_acc</th>\n",
       "      <td>0.705</td>\n",
       "      <td>0.727</td>\n",
       "      <td>0.727</td>\n",
       "    </tr>\n",
       "    <tr>\n",
       "      <th>train_time</th>\n",
       "      <td>4.206</td>\n",
       "      <td>5.707</td>\n",
       "      <td>4.300</td>\n",
       "    </tr>\n",
       "  </tbody>\n",
       "</table>\n",
       "</div>"
      ],
      "text/plain": [
       "            Logistic Regression  Random Forest  Gradient Boosting\n",
       "train_f1                  0.755          0.987              0.872\n",
       "valid_f1                  0.632          0.671              0.671\n",
       "train_acc                 0.810          0.987              0.886\n",
       "valid_acc                 0.705          0.727              0.727\n",
       "train_time                4.206          5.707              4.300"
      ]
     },
     "execution_count": 20,
     "metadata": {},
     "output_type": "execute_result"
    }
   ],
   "source": [
    "pd.DataFrame(results_tuned).rename(columns={'0': 'Logistic Regression', \n",
    "                                            '1': 'Random Forest', \n",
    "                                            '2':'Gradient Boosting'}, \n",
    "                             index={0: 'train_f1', 1:'valid_f1', \n",
    "                                    2:'train_acc', 3:'valid_acc', 4:'train_time'})"
   ]
  },
  {
   "cell_type": "markdown",
   "metadata": {},
   "source": [
    "**Metrics on test set for Best Model**"
   ]
  },
  {
   "cell_type": "code",
   "execution_count": 26,
   "metadata": {},
   "outputs": [
    {
     "data": {
      "text/plain": [
       "203"
      ]
     },
     "execution_count": 26,
     "metadata": {},
     "output_type": "execute_result"
    }
   ],
   "source": [
    "train_and_valid = train.union(valid)\n",
    "train_and_valid.count()"
   ]
  },
  {
   "cell_type": "code",
   "execution_count": 28,
   "metadata": {},
   "outputs": [
    {
     "data": {
      "text/plain": [
       "0.5898989898989899"
      ]
     },
     "execution_count": 28,
     "metadata": {},
     "output_type": "execute_result"
    }
   ],
   "source": [
    "best_model = GBTClassifier(seed=42, maxIter= 6, maxDepth= 2)\n",
    "\n",
    "pipeline = build_pipeline(data, best_model)\n",
    "fit_pipe = pipeline.fit(train_and_valid)\n",
    "test_results = fit_pipe.transform(test)\n",
    "\n",
    "test_f1 = MulticlassClassificationEvaluator().evaluate(test_results)\n",
    "test_f1"
   ]
  }
 ],
 "metadata": {
  "kernelspec": {
   "display_name": "Python 3",
   "language": "python",
   "name": "python3"
  },
  "language_info": {
   "codemirror_mode": {
    "name": "ipython",
    "version": 3
   },
   "file_extension": ".py",
   "mimetype": "text/x-python",
   "name": "python",
   "nbconvert_exporter": "python",
   "pygments_lexer": "ipython3",
   "version": "3.6.3"
  }
 },
 "nbformat": 4,
 "nbformat_minor": 2
}
